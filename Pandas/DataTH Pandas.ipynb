{
 "cells": [
  {
   "cell_type": "code",
   "execution_count": null,
   "metadata": {},
   "outputs": [],
   "source": [
    "# Read DF\n",
    "csvdf = pd.read_csv('csv')\n",
    "# Sometimes reading CSV for Excel need encoding\n",
    "csvdf = pd.read_csv('data.csv',encoding = \"ISO-8859-1\")\n",
    "# Print head and tail\n",
    "csvdf.head()\n",
    "csvdf.tail()"
   ]
  }
 ],
 "metadata": {
  "kernelspec": {
   "display_name": "Python 3",
   "language": "python",
   "name": "python3"
  },
  "language_info": {
   "codemirror_mode": {
    "name": "ipython",
    "version": 3
   },
   "file_extension": ".py",
   "mimetype": "text/x-python",
   "name": "python",
   "nbconvert_exporter": "python",
   "pygments_lexer": "ipython3",
   "version": "3.7.3"
  }
 },
 "nbformat": 4,
 "nbformat_minor": 4
}
