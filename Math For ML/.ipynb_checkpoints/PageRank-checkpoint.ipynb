{
 "cells": [
  {
   "cell_type": "markdown",
   "metadata": {
    "collapsed": true
   },
   "source": [
    "# PageRank\n",
    "In this notebook, you'll build on your knowledge of eigenvectors and eigenvalues by exploring the PageRank algorithm.\n",
    "The notebook is in two parts, the first is a worksheet to get you up to speed with how the algorithm works - here we will look at a micro-internet with fewer than 10 websites and see what it does and what can go wrong.\n",
    "The second is an assessment which will test your application of eigentheory to this problem by writing code and calculating the page rank of a large network representing a sub-section of the internet."
   ]
  },
  {
   "cell_type": "markdown",
   "metadata": {},
   "source": [
    "## Part 1 - Worksheet\n",
    "### Introduction\n",
    "\n",
    "PageRank (developed by Larry Page and Sergey Brin) revolutionized web search by generating a\n",
    "ranked list of web pages based on the underlying connectivity of the web. The PageRank algorithm is\n",
    "based on an ideal random web surfer who, when reaching a page, goes to the next page by clicking on a\n",
    "link. The surfer has equal probability of clicking any link on the page and, when reaching a page with no\n",
    "links, has equal probability of moving to any other page by typing in its URL. In addition, the surfer may\n",
    "occasionally choose to type in a random URL instead of following the links on a page. The PageRank is\n",
    "the ranked order of the pages from the most to the least probable page the surfer will be viewing.\n"
   ]
  },
  {
   "cell_type": "code",
   "execution_count": 2,
   "metadata": {},
   "outputs": [
    {
     "name": "stdout",
     "output_type": "stream",
     "text": [
      "Populating the interactive namespace from numpy and matplotlib\n"
     ]
    }
   ],
   "source": [
    "# Before we begin, let's load the libraries.\n",
    "%pylab notebook\n",
    "import numpy as np\n",
    "import numpy.linalg as la\n",
    "from readonly.PageRankFunctions import *\n",
    "np.set_printoptions(suppress=True)"
   ]
  },
  {
   "cell_type": "markdown",
   "metadata": {},
   "source": [
    "### PageRank as a linear algebra problem\n",
    "Let's imagine a micro-internet, with just 6 websites (**A**vocado, **B**ullseye, **C**atBabel, **D**romeda, **e**Tings, and **F**aceSpace).\n",
    "Each website links to some of the others, and this forms a network as shown,\n",
    "\n",
    "![A Micro-Internet](readonly/internet.png \"A Micro-Internet\")\n",
    "\n",
    "The design principle of PageRank is that important websites will be linked to by important websites.\n",
    "This somewhat recursive principle will form the basis of our thinking.\n",
    "\n",
    "Imagine we have 100 *Procrastinating Pat*s on our micro-internet, each viewing a single website at a time.\n",
    "Each minute the Pats follow a link on their website to another site on the micro-internet.\n",
    "After a while, the websites that are most linked to will have more Pats visiting them, and in the long run, each minute for every Pat that leaves a website, another will enter keeping the total numbers of Pats on each website constant.\n",
    "The PageRank is simply the ranking of websites by how many Pats they have on them at the end of this process.\n",
    "\n",
    "We represent the number of Pats on each website with the vector,\n",
    "$$\\mathbf{r} = \\begin{bmatrix} r_A \\\\ r_B \\\\ r_C \\\\ r_D \\\\ r_E \\\\ r_F \\end{bmatrix}$$\n",
    "And say that the number of Pats on each website in minute $i+1$ is related to those at minute $i$ by the matrix transformation\n",
    "\n",
    "$$ \\mathbf{r}^{(i+1)} = L \\,\\mathbf{r}^{(i)}$$\n",
    "with the matrix $L$ taking the form,\n",
    "$$ L = \\begin{bmatrix}\n",
    "L_{A→A} & L_{B→A} & L_{C→A} & L_{D→A} & L_{E→A} & L_{F→A} \\\\\n",
    "L_{A→B} & L_{B→B} & L_{C→B} & L_{D→B} & L_{E→B} & L_{F→B} \\\\\n",
    "L_{A→C} & L_{B→C} & L_{C→C} & L_{D→C} & L_{E→C} & L_{F→C} \\\\\n",
    "L_{A→D} & L_{B→D} & L_{C→D} & L_{D→D} & L_{E→D} & L_{F→D} \\\\\n",
    "L_{A→E} & L_{B→E} & L_{C→E} & L_{D→E} & L_{E→E} & L_{F→E} \\\\\n",
    "L_{A→F} & L_{B→F} & L_{C→F} & L_{D→F} & L_{E→F} & L_{F→F} \\\\\n",
    "\\end{bmatrix}\n",
    "$$\n",
    "where the columns represent the probability of leaving a website for any other website, and sum to one.\n",
    "The rows determine how likely you are to enter a website from any other, though these need not add to one.\n",
    "The long time behaviour of this system is when $ \\mathbf{r}^{(i+1)} = \\mathbf{r}^{(i)}$, so we'll drop the superscripts here, and that allows us to write,\n",
    "$$ L \\,\\mathbf{r} = \\mathbf{r}$$\n",
    "\n",
    "which is an eigenvalue equation for the matrix $L$, with eigenvalue 1 (this is guaranteed by the probabalistic structure of the matrix $L$).\n",
    "\n",
    "Complete the matrix $L$ below, we've left out the column for which websites the *FaceSpace* website (F) links to.\n",
    "Remember, this is the probability to click on another website from this one, so each column should add to one (by scaling by the number of links)."
   ]
  },
  {
   "cell_type": "code",
   "execution_count": 3,
   "metadata": {
    "collapsed": true
   },
   "outputs": [],
   "source": [
    "# Replace the ??? here with the probability of clicking a link to each website when leaving Website F (FaceSpace).\n",
    "L = np.array([[0,   1/2, 1/3, 0, 0,   0 ],\n",
    "              [1/3, 0,   0,   0, 1/2, 0 ],\n",
    "              [1/3, 1/2, 0,   1, 0,   1/2 ],\n",
    "              [1/3, 0,   1/3, 0, 1/2, 1/2 ],\n",
    "              [0,   0,   0,   0, 0,   0 ],\n",
    "              [0,   0,   1/3, 0, 0,   0 ]])"
   ]
  },
  {
   "cell_type": "markdown",
   "metadata": {},
   "source": [
    "In principle, we could use a linear algebra library, as below, to calculate the eigenvalues and vectors.\n",
    "And this would work for a small system. But this gets unmanagable for large systems.\n",
    "And since we only care about the principal eigenvector (the one with the largest eigenvalue, which will be 1 in this case), we can use the *power iteration method* which will scale better, and is faster for large systems.\n",
    "\n",
    "Use the code below to peek at the PageRank for this micro-internet."
   ]
  },
  {
   "cell_type": "code",
   "execution_count": 4,
   "metadata": {},
   "outputs": [
    {
     "data": {
      "text/plain": [
       "array([ 16.        ,   5.33333333,  40.        ,  25.33333333,\n",
       "         0.        ,  13.33333333])"
      ]
     },
     "execution_count": 4,
     "metadata": {},
     "output_type": "execute_result"
    }
   ],
   "source": [
    "eVals, eVecs = la.eig(L) # Gets the eigenvalues and vectors\n",
    "order = np.absolute(eVals).argsort()[::-1] # Orders them by their eigenvalues\n",
    "eVals = eVals[order]\n",
    "eVecs = eVecs[:,order]\n",
    "\n",
    "r = eVecs[:, 0] # Sets r to be the principal eigenvector\n",
    "100 * np.real(r / np.sum(r)) # Make this eigenvector sum to one, then multiply by 100 Procrastinating Pats"
   ]
  },
  {
   "cell_type": "markdown",
   "metadata": {},
   "source": [
    "We can see from this list, the number of Procrastinating Pats that we expect to find on each website after long times.\n",
    "Putting them in order of *popularity* (based on this metric), the PageRank of this micro-internet is:\n",
    "\n",
    "**C**atBabel, **D**romeda, **A**vocado, **F**aceSpace, **B**ullseye, **e**Tings\n",
    "\n",
    "Referring back to the micro-internet diagram, is this what you would have expected?\n",
    "Convince yourself that based on which pages seem important given which others link to them, that this is a sensible ranking.\n",
    "\n",
    "Let's now try to get the same result using the Power-Iteration method that was covered in the video.\n",
    "This method will be much better at dealing with large systems.\n",
    "\n",
    "First let's set up our initial vector, $\\mathbf{r}^{(0)}$, so that we have our 100 Procrastinating Pats equally distributed on each of our 6 websites."
   ]
  },
  {
   "cell_type": "code",
   "execution_count": 5,
   "metadata": {},
   "outputs": [
    {
     "data": {
      "text/plain": [
       "array([ 16.66666667,  16.66666667,  16.66666667,  16.66666667,\n",
       "        16.66666667,  16.66666667])"
      ]
     },
     "execution_count": 5,
     "metadata": {},
     "output_type": "execute_result"
    }
   ],
   "source": [
    "r = 100 * np.ones(6) / 6 # Sets up this vector (6 entries of 1/6 × 100 each)\n",
    "r # Shows it's value"
   ]
  },
  {
   "cell_type": "code",
   "execution_count": 6,
   "metadata": {},
   "outputs": [
    {
     "data": {
      "text/plain": [
       "array([ 13.88888889,  13.88888889,  38.88888889,  27.77777778,\n",
       "         0.        ,   5.55555556])"
      ]
     },
     "execution_count": 6,
     "metadata": {},
     "output_type": "execute_result"
    }
   ],
   "source": [
    "L @ r"
   ]
  },
  {
   "cell_type": "code",
   "execution_count": 7,
   "metadata": {},
   "outputs": [
    {
     "data": {
      "text/plain": [
       "array([ 16.66666667,  16.66666667,  16.66666667,  16.66666667,\n",
       "        16.66666667,  16.66666667])"
      ]
     },
     "execution_count": 7,
     "metadata": {},
     "output_type": "execute_result"
    }
   ],
   "source": [
    "r @ L"
   ]
  },
  {
   "cell_type": "markdown",
   "metadata": {},
   "source": [
    "Next, let's update the vector to the next minute, with the matrix $L$.\n",
    "Run the following cell multiple times, until the answer stabilises."
   ]
  },
  {
   "cell_type": "code",
   "execution_count": 8,
   "metadata": {},
   "outputs": [
    {
     "data": {
      "text/plain": [
       "array([ 13.88888889,  13.88888889,  38.88888889,  27.77777778,\n",
       "         0.        ,   5.55555556])"
      ]
     },
     "execution_count": 8,
     "metadata": {},
     "output_type": "execute_result"
    }
   ],
   "source": [
    "r = L @ r # Apply matrix L to r\n",
    "r # Show it's value\n",
    "# Re-run this cell multiple times to converge to the correct answer."
   ]
  },
  {
   "cell_type": "markdown",
   "metadata": {},
   "source": [
    "We can automate applying this matrix multiple times as follows,"
   ]
  },
  {
   "cell_type": "code",
   "execution_count": 9,
   "metadata": {},
   "outputs": [
    {
     "data": {
      "text/plain": [
       "array([ 16.        ,   5.33333333,  40.        ,  25.33333333,\n",
       "         0.        ,  13.33333333])"
      ]
     },
     "execution_count": 9,
     "metadata": {},
     "output_type": "execute_result"
    }
   ],
   "source": [
    "r = 100 * np.ones(6) / 6 # Sets up this vector (6 entries of 1/6 × 100 each)\n",
    "for i in np.arange(100) : # Repeat 100 times\n",
    "    r = L @ r\n",
    "r"
   ]
  },
  {
   "cell_type": "markdown",
   "metadata": {},
   "source": [
    "Or even better, we can keep running until we get to the required tolerance."
   ]
  },
  {
   "cell_type": "code",
   "execution_count": 10,
   "metadata": {},
   "outputs": [
    {
     "name": "stdout",
     "output_type": "stream",
     "text": [
      "18 iterations to convergence.\n"
     ]
    },
    {
     "data": {
      "text/plain": [
       "array([ 16.00149917,   5.33252025,  39.99916911,  25.3324738 ,\n",
       "         0.        ,  13.33433767])"
      ]
     },
     "execution_count": 10,
     "metadata": {},
     "output_type": "execute_result"
    }
   ],
   "source": [
    "r = 100 * np.ones(6) / 6 # Sets up this vector (6 entries of 1/6 × 100 each)\n",
    "lastR = r\n",
    "r = L @ r\n",
    "i = 0\n",
    "while la.norm(lastR - r) > 0.01 :\n",
    "    lastR = r\n",
    "    r = L @ r\n",
    "    i += 1\n",
    "print(str(i) + \" iterations to convergence.\")\n",
    "r"
   ]
  },
  {
   "cell_type": "markdown",
   "metadata": {},
   "source": [
    "See how the PageRank order is established fairly quickly, and the vector converges on the value we calculated earlier after a few tens of repeats.\n",
    "\n",
    "Congratulations! You've just calculated your first PageRank!"
   ]
  },
  {
   "cell_type": "markdown",
   "metadata": {},
   "source": [
    "### Damping Parameter\n",
    "The system we just studied converged fairly quickly to the correct answer.\n",
    "Let's consider an extension to our micro-internet where things start to go wrong.\n",
    "\n",
    "Say a new website is added to the micro-internet: *Geoff's* Website.\n",
    "This website is linked to by *FaceSpace* and only links to itself.\n",
    "![An Expanded Micro-Internet](readonly/internet2.png \"An Expanded Micro-Internet\")\n",
    "\n",
    "Intuitively, only *FaceSpace*, which is in the bottom half of the page rank, links to this website amongst the two others it links to,\n",
    "so we might expect *Geoff's* site to have a correspondingly low PageRank score.\n",
    "\n",
    "Build the new $L$ matrix for the expanded micro-internet, and use Power-Iteration on the Procrastinating Pat vector.\n",
    "See what happens…"
   ]
  },
  {
   "cell_type": "code",
   "execution_count": 11,
   "metadata": {
    "collapsed": true
   },
   "outputs": [],
   "source": [
    " # We'll call this one L2, to distinguish it from the previous L.\n",
    "L2 = np.array([[0,   1/2, 1/3, 0, 0,   0, 0 ],\n",
    "               [1/3, 0,   0,   0, 1/2, 0, 0 ],\n",
    "               [1/3, 1/2, 0,   1, 0,   1/3, 0 ],\n",
    "               [1/3, 0,   1/3, 0, 1/2, 1/3, 0 ],\n",
    "               [0,   0,   0,   0, 0,   0, 0 ],\n",
    "               [0,   0,   1/3, 0, 0,   0, 0 ],\n",
    "               [0,   0,   0,   0, 0,   1/3, 1 ]])"
   ]
  },
  {
   "cell_type": "code",
   "execution_count": 12,
   "metadata": {},
   "outputs": [
    {
     "name": "stdout",
     "output_type": "stream",
     "text": [
      "131 iterations to convergence.\n"
     ]
    },
    {
     "data": {
      "text/plain": [
       "array([  0.03046998,   0.01064323,   0.07126612,   0.04423198,\n",
       "         0.        ,   0.02489342,  99.81849527])"
      ]
     },
     "execution_count": 12,
     "metadata": {},
     "output_type": "execute_result"
    }
   ],
   "source": [
    "r = 100 * np.ones(7) / 7 # Sets up this vector (6 entries of 1/6 × 100 each)\n",
    "lastR = r\n",
    "r = L2 @ r\n",
    "i = 0\n",
    "while la.norm(lastR - r) > 0.01 :\n",
    "    lastR = r\n",
    "    r = L2 @ r\n",
    "    i += 1\n",
    "print(str(i) + \" iterations to convergence.\")\n",
    "r"
   ]
  },
  {
   "cell_type": "code",
   "execution_count": 13,
   "metadata": {
    "collapsed": true
   },
   "outputs": [],
   "source": [
    "# once a Pat get's to Geoff's Website, they can't leave, as all links head back to Geoff."
   ]
  },
  {
   "cell_type": "markdown",
   "metadata": {},
   "source": [
    "That's no good! *Geoff* seems to be taking all the traffic on the micro-internet, and somehow coming at the top of the PageRank.\n",
    "This behaviour can be understood, because once a Pat get's to *Geoff's* Website, they can't leave, as all links head back to Geoff.\n",
    "\n",
    "To combat this, we can add a small probability that the Procrastinating Pats don't follow any link on a webpage, but instead visit a website on the micro-internet at random.\n",
    "We'll say the probability of them following a link is $d$ and the probability of choosing a random website is therefore $1-d$.\n",
    "We can use a new matrix to work out where the Pat's visit each minute.\n",
    "$$ M = d \\, L + \\frac{1-d}{n} \\, J $$\n",
    "where $J$ is an $n\\times n$ matrix where every element is one.\n",
    "\n",
    "If $d$ is one, we have the case we had previously, whereas if $d$ is zero, we will always visit a random webpage and therefore all webpages will be equally likely and equally ranked.\n",
    "For this extension to work best, $1-d$ should be somewhat small - though we won't go into a discussion about exactly how small.\n",
    "\n",
    "Let's retry this PageRank with this extension."
   ]
  },
  {
   "cell_type": "code",
   "execution_count": 14,
   "metadata": {
    "collapsed": true
   },
   "outputs": [],
   "source": [
    "# the probability of them following a link is  d  and the probability of choosing a random website is therefore  1−d."
   ]
  },
  {
   "cell_type": "code",
   "execution_count": 15,
   "metadata": {
    "collapsed": true
   },
   "outputs": [],
   "source": [
    "d = 0.5 # Feel free to play with this parameter after running the code once.\n",
    "M = d * L2 + (1-d)/7 * np.ones([7, 7]) # np.ones() is the J matrix, with ones for each entry."
   ]
  },
  {
   "cell_type": "code",
   "execution_count": 16,
   "metadata": {},
   "outputs": [
    {
     "name": "stdout",
     "output_type": "stream",
     "text": [
      "8 iterations to convergence.\n"
     ]
    },
    {
     "data": {
      "text/plain": [
       "array([ 13.68217054,  11.20902965,  22.41964343,  16.7593433 ,\n",
       "         7.14285714,  10.87976354,  17.90719239])"
      ]
     },
     "execution_count": 16,
     "metadata": {},
     "output_type": "execute_result"
    }
   ],
   "source": [
    "r = 100 * np.ones(7) / 7 # Sets up this vector (6 entries of 1/6 × 100 each)\n",
    "lastR = r\n",
    "r = M @ r\n",
    "i = 0\n",
    "while la.norm(lastR - r) > 0.01 :\n",
    "    lastR = r\n",
    "    r = M @ r\n",
    "    i += 1\n",
    "print(str(i) + \" iterations to convergence.\")\n",
    "r"
   ]
  },
  {
   "cell_type": "code",
   "execution_count": 33,
   "metadata": {},
   "outputs": [
    {
     "data": {
      "text/plain": [
       "array([[1, 2, 3],\n",
       "       [4, 5, 6]])"
      ]
     },
     "execution_count": 33,
     "metadata": {},
     "output_type": "execute_result"
    }
   ],
   "source": [
    "r = 100 * np.ones(7) / 7\n",
    "r.shape\n",
    "A = np.array([[1, 2, 3], [4, 5, 6]])\n",
    "A"
   ]
  },
  {
   "cell_type": "code",
   "execution_count": 34,
   "metadata": {},
   "outputs": [
    {
     "data": {
      "text/plain": [
       "9.5393920141694561"
      ]
     },
     "execution_count": 34,
     "metadata": {},
     "output_type": "execute_result"
    }
   ],
   "source": [
    "la.norm(A)"
   ]
  },
  {
   "cell_type": "markdown",
   "metadata": {},
   "source": [
    "This is certainly better, the PageRank gives sensible numbers for the Procrastinating Pats that end up on each webpage.\n",
    "This method still predicts Geoff has a high ranking webpage however.\n",
    "This could be seen as a consequence of using a small network. We could also get around the problem by not counting self-links when producing the L matrix (an if a website has no outgoing links, make it link to all websites equally).\n",
    "We won't look further down this route, as this is in the realm of improvements to PageRank, rather than eigenproblems.\n",
    "\n",
    "You are now in a good position, having gained an understanding of PageRank, to produce your own code to calculate the PageRank of a website with thousands of entries.\n",
    "\n",
    "Good Luck!"
   ]
  },
  {
   "cell_type": "markdown",
   "metadata": {},
   "source": [
    "## Part 2 - Assessment\n",
    "In this assessment, you will be asked to produce a function that can calculate the PageRank for an arbitrarily large probability matrix.\n",
    "This, the final assignment of the course, will give less guidance than previous assessments.\n",
    "You will be expected to utilise code from earlier in the worksheet and re-purpose it to your needs.\n",
    "\n",
    "### How to submit\n",
    "Edit the code in the cell below to complete the assignment.\n",
    "Once you are finished and happy with it, press the *Submit Assignment* button at the top of this notebook.\n",
    "\n",
    "Please don't change any of the function names, as these will be checked by the grading script.\n",
    "\n",
    "If you have further questions about submissions or programming assignments, here is a [list](https://www.coursera.org/learn/linear-algebra-machine-learning/discussions/weeks/1/threads/jB4klkn5EeibtBIQyzFmQg) of Q&A. You can also raise an issue on the discussion forum. Good luck!"
   ]
  },
  {
   "cell_type": "code",
   "execution_count": 17,
   "metadata": {
    "collapsed": true
   },
   "outputs": [],
   "source": [
    "# PACKAGE\n",
    "# Here are the imports again, just in case you need them.\n",
    "# There is no need to edit or submit this cell.\n",
    "import numpy as np\n",
    "import numpy.linalg as la\n",
    "from readonly.PageRankFunctions import *\n",
    "np.set_printoptions(suppress=True)"
   ]
  },
  {
   "cell_type": "code",
   "execution_count": 64,
   "metadata": {
    "collapsed": true
   },
   "outputs": [],
   "source": [
    "# GRADED FUNCTION\n",
    "# Complete this function to provide the PageRank for an arbitrarily sized internet.\n",
    "# I.e. the principal eigenvector of the damped system, using the power iteration method.\n",
    "# (Normalisation doesn't matter here)\n",
    "# The functions inputs are the linkMatrix, and d the damping parameter - as defined in this worksheet.\n",
    "# (The damping parameter, d, will be set by the function - no need to set this yourself.)\n",
    "def pageRank(linkMatrix, d):\n",
    "    n = linkMatrix.shape[0] # check how many website\n",
    "    M = d * linkMatrix + (1-d)/n * np.ones([n, n])\n",
    "    r = 100 * np.ones(n) / n\n",
    "    lastR = r\n",
    "    r = M @ r\n",
    "    i = 0\n",
    "    while la.norm(lastR - r) > 0.01 :\n",
    "        lastR = r\n",
    "        r = M @ r\n",
    "        i += 1\n",
    "    print(str(i) + \" iterations to convergence.\")\n",
    "    return r"
   ]
  },
  {
   "cell_type": "markdown",
   "metadata": {},
   "source": [
    "## Test your code before submission\n",
    "To test the code you've written above, run the cell (select the cell above, then press the play button [ ▶| ] or press shift-enter).\n",
    "You can then use the code below to test out your function.\n",
    "You don't need to submit this cell; you can edit and run it as much as you like."
   ]
  },
  {
   "cell_type": "code",
   "execution_count": 49,
   "metadata": {},
   "outputs": [
    {
     "data": {
      "text/plain": [
       "array([[ 0.2,  0. ,  0.2,  0.2,  0.2],\n",
       "       [ 0.2,  1. ,  0.2,  0.2,  0.2],\n",
       "       [ 0.2,  0. ,  0.2,  0.2,  0.2],\n",
       "       [ 0.2,  0. ,  0.2,  0.2,  0.2],\n",
       "       [ 0.2,  0. ,  0.2,  0.2,  0.2]])"
      ]
     },
     "execution_count": 49,
     "metadata": {},
     "output_type": "execute_result"
    }
   ],
   "source": [
    "# Use the following function to generate internets of different sizes.\n",
    "generate_internet(5)"
   ]
  },
  {
   "cell_type": "code",
   "execution_count": 57,
   "metadata": {},
   "outputs": [
    {
     "data": {
      "text/plain": [
       "array([[ 0.        ,  0.33333333,  0.01      , ...,  0.        ,\n",
       "         0.        ,  0.        ],\n",
       "       [ 0.        ,  0.        ,  0.01      , ...,  0.        ,\n",
       "         0.        ,  0.        ],\n",
       "       [ 0.        ,  0.        ,  0.01      , ...,  0.        ,\n",
       "         0.        ,  0.        ],\n",
       "       ..., \n",
       "       [ 0.        ,  0.        ,  0.01      , ...,  0.        ,\n",
       "         0.        ,  0.        ],\n",
       "       [ 0.        ,  0.        ,  0.01      , ...,  0.        ,\n",
       "         0.33333333,  0.        ],\n",
       "       [ 0.        ,  0.        ,  0.01      , ...,  0.        ,\n",
       "         0.33333333,  0.5       ]])"
      ]
     },
     "execution_count": 57,
     "metadata": {},
     "output_type": "execute_result"
    }
   ],
   "source": [
    "# Test your PageRank method against the built in \"eig\" method.\n",
    "# You should see yours is a lot faster for large internets\n",
    "L = generate_internet(100)\n",
    "L"
   ]
  },
  {
   "cell_type": "code",
   "execution_count": 58,
   "metadata": {},
   "outputs": [
    {
     "name": "stdout",
     "output_type": "stream",
     "text": [
      "6 iterations to convergence.\n"
     ]
    }
   ],
   "source": [
    "pageRank(L, 0.5)"
   ]
  },
  {
   "cell_type": "code",
   "execution_count": 59,
   "metadata": {},
   "outputs": [
    {
     "data": {
      "text/plain": [
       "array([  0.00000114,   0.00000046,   0.00000201,   0.00000029,\n",
       "         0.00000029,   0.00000026,   0.0000004 ,   0.00000189,\n",
       "         0.00000119,   0.00000058,   0.00000107,   0.00000224,\n",
       "         0.0000026 ,   0.00000045,   0.00000237,   0.00000159,\n",
       "         0.00000013,   0.00000017,   0.0000038 ,   0.0000002 ,\n",
       "         0.0000028 ,   0.00000187,   0.00000111,   0.00000094,\n",
       "         0.00000182,   0.00000065,   0.00000175,   0.00000256,\n",
       "         0.00000264,   0.00000066,   0.00000033,   0.00000043,\n",
       "         0.00000096,   0.00000095,   0.00000013,   0.00000157,\n",
       "         0.00000041,   0.00000029,   0.00000031,   0.00000028,\n",
       "         0.00000018,   0.00000195,   0.000002  ,   0.00000112,\n",
       "        73.81590378,   0.00000086,   0.00000088,   0.00000179,\n",
       "         0.0000029 ,   0.00000013,   0.00000059,   0.00000214,\n",
       "         0.0000013 ,   0.00000221,   0.00000131,   0.00000196,\n",
       "         0.00000233,   0.00000209,   0.00000029,   0.00000131,\n",
       "         0.00000077,   0.00000485,   0.00000026,   0.0000002 ,\n",
       "         0.00000013,   0.0000003 ,   0.00000093,   0.00000013,\n",
       "         0.00000187,   0.00000397,   0.00000343,   0.00000136,\n",
       "         0.00000133,   0.00000273,   0.00000195,   0.00000125,\n",
       "         0.00000023,   0.00000072,   0.00000053,   0.00000066,\n",
       "         0.00000292,  13.09198184,   0.00000192,   0.00000597,\n",
       "         0.00000266,   0.00000428,   0.00000066,   0.00000044,\n",
       "         0.0000002 ,   0.0000033 ,   0.00000431,   0.00000082,\n",
       "        13.091982  ,   0.00000039,   0.00000071,   0.00000138,\n",
       "         0.00000039,   0.00000049,   0.0000002 ,   0.00000079])"
      ]
     },
     "execution_count": 59,
     "metadata": {},
     "output_type": "execute_result"
    }
   ],
   "source": [
    "# Do note, this is calculating the eigenvalues of the link matrix, L,\n",
    "# without any damping. It may give different results that your pageRank function.\n",
    "# If you wish, you could modify this cell to include damping.\n",
    "# (There is no credit for this though)\n",
    "eVals, eVecs = la.eig(L) # Gets the eigenvalues and vectors\n",
    "order = np.absolute(eVals).argsort()[::-1] # Orders them by their eigenvalues\n",
    "eVals = eVals[order]\n",
    "eVecs = eVecs[:,order]\n",
    "\n",
    "r = eVecs[:, 0]\n",
    "100 * np.real(r / np.sum(r))"
   ]
  },
  {
   "cell_type": "code",
   "execution_count": 66,
   "metadata": {},
   "outputs": [
    {
     "name": "stdout",
     "output_type": "stream",
     "text": [
      "Populating the interactive namespace from numpy and matplotlib\n",
      "31 iterations to convergence.\n"
     ]
    },
    {
     "data": {
      "application/javascript": [
       "/* Put everything inside the global mpl namespace */\n",
       "window.mpl = {};\n",
       "\n",
       "\n",
       "mpl.get_websocket_type = function() {\n",
       "    if (typeof(WebSocket) !== 'undefined') {\n",
       "        return WebSocket;\n",
       "    } else if (typeof(MozWebSocket) !== 'undefined') {\n",
       "        return MozWebSocket;\n",
       "    } else {\n",
       "        alert('Your browser does not have WebSocket support.' +\n",
       "              'Please try Chrome, Safari or Firefox ≥ 6. ' +\n",
       "              'Firefox 4 and 5 are also supported but you ' +\n",
       "              'have to enable WebSockets in about:config.');\n",
       "    };\n",
       "}\n",
       "\n",
       "mpl.figure = function(figure_id, websocket, ondownload, parent_element) {\n",
       "    this.id = figure_id;\n",
       "\n",
       "    this.ws = websocket;\n",
       "\n",
       "    this.supports_binary = (this.ws.binaryType != undefined);\n",
       "\n",
       "    if (!this.supports_binary) {\n",
       "        var warnings = document.getElementById(\"mpl-warnings\");\n",
       "        if (warnings) {\n",
       "            warnings.style.display = 'block';\n",
       "            warnings.textContent = (\n",
       "                \"This browser does not support binary websocket messages. \" +\n",
       "                    \"Performance may be slow.\");\n",
       "        }\n",
       "    }\n",
       "\n",
       "    this.imageObj = new Image();\n",
       "\n",
       "    this.context = undefined;\n",
       "    this.message = undefined;\n",
       "    this.canvas = undefined;\n",
       "    this.rubberband_canvas = undefined;\n",
       "    this.rubberband_context = undefined;\n",
       "    this.format_dropdown = undefined;\n",
       "\n",
       "    this.image_mode = 'full';\n",
       "\n",
       "    this.root = $('<div/>');\n",
       "    this._root_extra_style(this.root)\n",
       "    this.root.attr('style', 'display: inline-block');\n",
       "\n",
       "    $(parent_element).append(this.root);\n",
       "\n",
       "    this._init_header(this);\n",
       "    this._init_canvas(this);\n",
       "    this._init_toolbar(this);\n",
       "\n",
       "    var fig = this;\n",
       "\n",
       "    this.waiting = false;\n",
       "\n",
       "    this.ws.onopen =  function () {\n",
       "            fig.send_message(\"supports_binary\", {value: fig.supports_binary});\n",
       "            fig.send_message(\"send_image_mode\", {});\n",
       "            if (mpl.ratio != 1) {\n",
       "                fig.send_message(\"set_dpi_ratio\", {'dpi_ratio': mpl.ratio});\n",
       "            }\n",
       "            fig.send_message(\"refresh\", {});\n",
       "        }\n",
       "\n",
       "    this.imageObj.onload = function() {\n",
       "            if (fig.image_mode == 'full') {\n",
       "                // Full images could contain transparency (where diff images\n",
       "                // almost always do), so we need to clear the canvas so that\n",
       "                // there is no ghosting.\n",
       "                fig.context.clearRect(0, 0, fig.canvas.width, fig.canvas.height);\n",
       "            }\n",
       "            fig.context.drawImage(fig.imageObj, 0, 0);\n",
       "        };\n",
       "\n",
       "    this.imageObj.onunload = function() {\n",
       "        this.ws.close();\n",
       "    }\n",
       "\n",
       "    this.ws.onmessage = this._make_on_message_function(this);\n",
       "\n",
       "    this.ondownload = ondownload;\n",
       "}\n",
       "\n",
       "mpl.figure.prototype._init_header = function() {\n",
       "    var titlebar = $(\n",
       "        '<div class=\"ui-dialog-titlebar ui-widget-header ui-corner-all ' +\n",
       "        'ui-helper-clearfix\"/>');\n",
       "    var titletext = $(\n",
       "        '<div class=\"ui-dialog-title\" style=\"width: 100%; ' +\n",
       "        'text-align: center; padding: 3px;\"/>');\n",
       "    titlebar.append(titletext)\n",
       "    this.root.append(titlebar);\n",
       "    this.header = titletext[0];\n",
       "}\n",
       "\n",
       "\n",
       "\n",
       "mpl.figure.prototype._canvas_extra_style = function(canvas_div) {\n",
       "\n",
       "}\n",
       "\n",
       "\n",
       "mpl.figure.prototype._root_extra_style = function(canvas_div) {\n",
       "\n",
       "}\n",
       "\n",
       "mpl.figure.prototype._init_canvas = function() {\n",
       "    var fig = this;\n",
       "\n",
       "    var canvas_div = $('<div/>');\n",
       "\n",
       "    canvas_div.attr('style', 'position: relative; clear: both; outline: 0');\n",
       "\n",
       "    function canvas_keyboard_event(event) {\n",
       "        return fig.key_event(event, event['data']);\n",
       "    }\n",
       "\n",
       "    canvas_div.keydown('key_press', canvas_keyboard_event);\n",
       "    canvas_div.keyup('key_release', canvas_keyboard_event);\n",
       "    this.canvas_div = canvas_div\n",
       "    this._canvas_extra_style(canvas_div)\n",
       "    this.root.append(canvas_div);\n",
       "\n",
       "    var canvas = $('<canvas/>');\n",
       "    canvas.addClass('mpl-canvas');\n",
       "    canvas.attr('style', \"left: 0; top: 0; z-index: 0; outline: 0\")\n",
       "\n",
       "    this.canvas = canvas[0];\n",
       "    this.context = canvas[0].getContext(\"2d\");\n",
       "\n",
       "    var backingStore = this.context.backingStorePixelRatio ||\n",
       "\tthis.context.webkitBackingStorePixelRatio ||\n",
       "\tthis.context.mozBackingStorePixelRatio ||\n",
       "\tthis.context.msBackingStorePixelRatio ||\n",
       "\tthis.context.oBackingStorePixelRatio ||\n",
       "\tthis.context.backingStorePixelRatio || 1;\n",
       "\n",
       "    mpl.ratio = (window.devicePixelRatio || 1) / backingStore;\n",
       "\n",
       "    var rubberband = $('<canvas/>');\n",
       "    rubberband.attr('style', \"position: absolute; left: 0; top: 0; z-index: 1;\")\n",
       "\n",
       "    var pass_mouse_events = true;\n",
       "\n",
       "    canvas_div.resizable({\n",
       "        start: function(event, ui) {\n",
       "            pass_mouse_events = false;\n",
       "        },\n",
       "        resize: function(event, ui) {\n",
       "            fig.request_resize(ui.size.width, ui.size.height);\n",
       "        },\n",
       "        stop: function(event, ui) {\n",
       "            pass_mouse_events = true;\n",
       "            fig.request_resize(ui.size.width, ui.size.height);\n",
       "        },\n",
       "    });\n",
       "\n",
       "    function mouse_event_fn(event) {\n",
       "        if (pass_mouse_events)\n",
       "            return fig.mouse_event(event, event['data']);\n",
       "    }\n",
       "\n",
       "    rubberband.mousedown('button_press', mouse_event_fn);\n",
       "    rubberband.mouseup('button_release', mouse_event_fn);\n",
       "    // Throttle sequential mouse events to 1 every 20ms.\n",
       "    rubberband.mousemove('motion_notify', mouse_event_fn);\n",
       "\n",
       "    rubberband.mouseenter('figure_enter', mouse_event_fn);\n",
       "    rubberband.mouseleave('figure_leave', mouse_event_fn);\n",
       "\n",
       "    canvas_div.on(\"wheel\", function (event) {\n",
       "        event = event.originalEvent;\n",
       "        event['data'] = 'scroll'\n",
       "        if (event.deltaY < 0) {\n",
       "            event.step = 1;\n",
       "        } else {\n",
       "            event.step = -1;\n",
       "        }\n",
       "        mouse_event_fn(event);\n",
       "    });\n",
       "\n",
       "    canvas_div.append(canvas);\n",
       "    canvas_div.append(rubberband);\n",
       "\n",
       "    this.rubberband = rubberband;\n",
       "    this.rubberband_canvas = rubberband[0];\n",
       "    this.rubberband_context = rubberband[0].getContext(\"2d\");\n",
       "    this.rubberband_context.strokeStyle = \"#000000\";\n",
       "\n",
       "    this._resize_canvas = function(width, height) {\n",
       "        // Keep the size of the canvas, canvas container, and rubber band\n",
       "        // canvas in synch.\n",
       "        canvas_div.css('width', width)\n",
       "        canvas_div.css('height', height)\n",
       "\n",
       "        canvas.attr('width', width * mpl.ratio);\n",
       "        canvas.attr('height', height * mpl.ratio);\n",
       "        canvas.attr('style', 'width: ' + width + 'px; height: ' + height + 'px;');\n",
       "\n",
       "        rubberband.attr('width', width);\n",
       "        rubberband.attr('height', height);\n",
       "    }\n",
       "\n",
       "    // Set the figure to an initial 600x600px, this will subsequently be updated\n",
       "    // upon first draw.\n",
       "    this._resize_canvas(600, 600);\n",
       "\n",
       "    // Disable right mouse context menu.\n",
       "    $(this.rubberband_canvas).bind(\"contextmenu\",function(e){\n",
       "        return false;\n",
       "    });\n",
       "\n",
       "    function set_focus () {\n",
       "        canvas.focus();\n",
       "        canvas_div.focus();\n",
       "    }\n",
       "\n",
       "    window.setTimeout(set_focus, 100);\n",
       "}\n",
       "\n",
       "mpl.figure.prototype._init_toolbar = function() {\n",
       "    var fig = this;\n",
       "\n",
       "    var nav_element = $('<div/>')\n",
       "    nav_element.attr('style', 'width: 100%');\n",
       "    this.root.append(nav_element);\n",
       "\n",
       "    // Define a callback function for later on.\n",
       "    function toolbar_event(event) {\n",
       "        return fig.toolbar_button_onclick(event['data']);\n",
       "    }\n",
       "    function toolbar_mouse_event(event) {\n",
       "        return fig.toolbar_button_onmouseover(event['data']);\n",
       "    }\n",
       "\n",
       "    for(var toolbar_ind in mpl.toolbar_items) {\n",
       "        var name = mpl.toolbar_items[toolbar_ind][0];\n",
       "        var tooltip = mpl.toolbar_items[toolbar_ind][1];\n",
       "        var image = mpl.toolbar_items[toolbar_ind][2];\n",
       "        var method_name = mpl.toolbar_items[toolbar_ind][3];\n",
       "\n",
       "        if (!name) {\n",
       "            // put a spacer in here.\n",
       "            continue;\n",
       "        }\n",
       "        var button = $('<button/>');\n",
       "        button.addClass('ui-button ui-widget ui-state-default ui-corner-all ' +\n",
       "                        'ui-button-icon-only');\n",
       "        button.attr('role', 'button');\n",
       "        button.attr('aria-disabled', 'false');\n",
       "        button.click(method_name, toolbar_event);\n",
       "        button.mouseover(tooltip, toolbar_mouse_event);\n",
       "\n",
       "        var icon_img = $('<span/>');\n",
       "        icon_img.addClass('ui-button-icon-primary ui-icon');\n",
       "        icon_img.addClass(image);\n",
       "        icon_img.addClass('ui-corner-all');\n",
       "\n",
       "        var tooltip_span = $('<span/>');\n",
       "        tooltip_span.addClass('ui-button-text');\n",
       "        tooltip_span.html(tooltip);\n",
       "\n",
       "        button.append(icon_img);\n",
       "        button.append(tooltip_span);\n",
       "\n",
       "        nav_element.append(button);\n",
       "    }\n",
       "\n",
       "    var fmt_picker_span = $('<span/>');\n",
       "\n",
       "    var fmt_picker = $('<select/>');\n",
       "    fmt_picker.addClass('mpl-toolbar-option ui-widget ui-widget-content');\n",
       "    fmt_picker_span.append(fmt_picker);\n",
       "    nav_element.append(fmt_picker_span);\n",
       "    this.format_dropdown = fmt_picker[0];\n",
       "\n",
       "    for (var ind in mpl.extensions) {\n",
       "        var fmt = mpl.extensions[ind];\n",
       "        var option = $(\n",
       "            '<option/>', {selected: fmt === mpl.default_extension}).html(fmt);\n",
       "        fmt_picker.append(option)\n",
       "    }\n",
       "\n",
       "    // Add hover states to the ui-buttons\n",
       "    $( \".ui-button\" ).hover(\n",
       "        function() { $(this).addClass(\"ui-state-hover\");},\n",
       "        function() { $(this).removeClass(\"ui-state-hover\");}\n",
       "    );\n",
       "\n",
       "    var status_bar = $('<span class=\"mpl-message\"/>');\n",
       "    nav_element.append(status_bar);\n",
       "    this.message = status_bar[0];\n",
       "}\n",
       "\n",
       "mpl.figure.prototype.request_resize = function(x_pixels, y_pixels) {\n",
       "    // Request matplotlib to resize the figure. Matplotlib will then trigger a resize in the client,\n",
       "    // which will in turn request a refresh of the image.\n",
       "    this.send_message('resize', {'width': x_pixels, 'height': y_pixels});\n",
       "}\n",
       "\n",
       "mpl.figure.prototype.send_message = function(type, properties) {\n",
       "    properties['type'] = type;\n",
       "    properties['figure_id'] = this.id;\n",
       "    this.ws.send(JSON.stringify(properties));\n",
       "}\n",
       "\n",
       "mpl.figure.prototype.send_draw_message = function() {\n",
       "    if (!this.waiting) {\n",
       "        this.waiting = true;\n",
       "        this.ws.send(JSON.stringify({type: \"draw\", figure_id: this.id}));\n",
       "    }\n",
       "}\n",
       "\n",
       "\n",
       "mpl.figure.prototype.handle_save = function(fig, msg) {\n",
       "    var format_dropdown = fig.format_dropdown;\n",
       "    var format = format_dropdown.options[format_dropdown.selectedIndex].value;\n",
       "    fig.ondownload(fig, format);\n",
       "}\n",
       "\n",
       "\n",
       "mpl.figure.prototype.handle_resize = function(fig, msg) {\n",
       "    var size = msg['size'];\n",
       "    if (size[0] != fig.canvas.width || size[1] != fig.canvas.height) {\n",
       "        fig._resize_canvas(size[0], size[1]);\n",
       "        fig.send_message(\"refresh\", {});\n",
       "    };\n",
       "}\n",
       "\n",
       "mpl.figure.prototype.handle_rubberband = function(fig, msg) {\n",
       "    var x0 = msg['x0'] / mpl.ratio;\n",
       "    var y0 = (fig.canvas.height - msg['y0']) / mpl.ratio;\n",
       "    var x1 = msg['x1'] / mpl.ratio;\n",
       "    var y1 = (fig.canvas.height - msg['y1']) / mpl.ratio;\n",
       "    x0 = Math.floor(x0) + 0.5;\n",
       "    y0 = Math.floor(y0) + 0.5;\n",
       "    x1 = Math.floor(x1) + 0.5;\n",
       "    y1 = Math.floor(y1) + 0.5;\n",
       "    var min_x = Math.min(x0, x1);\n",
       "    var min_y = Math.min(y0, y1);\n",
       "    var width = Math.abs(x1 - x0);\n",
       "    var height = Math.abs(y1 - y0);\n",
       "\n",
       "    fig.rubberband_context.clearRect(\n",
       "        0, 0, fig.canvas.width, fig.canvas.height);\n",
       "\n",
       "    fig.rubberband_context.strokeRect(min_x, min_y, width, height);\n",
       "}\n",
       "\n",
       "mpl.figure.prototype.handle_figure_label = function(fig, msg) {\n",
       "    // Updates the figure title.\n",
       "    fig.header.textContent = msg['label'];\n",
       "}\n",
       "\n",
       "mpl.figure.prototype.handle_cursor = function(fig, msg) {\n",
       "    var cursor = msg['cursor'];\n",
       "    switch(cursor)\n",
       "    {\n",
       "    case 0:\n",
       "        cursor = 'pointer';\n",
       "        break;\n",
       "    case 1:\n",
       "        cursor = 'default';\n",
       "        break;\n",
       "    case 2:\n",
       "        cursor = 'crosshair';\n",
       "        break;\n",
       "    case 3:\n",
       "        cursor = 'move';\n",
       "        break;\n",
       "    }\n",
       "    fig.rubberband_canvas.style.cursor = cursor;\n",
       "}\n",
       "\n",
       "mpl.figure.prototype.handle_message = function(fig, msg) {\n",
       "    fig.message.textContent = msg['message'];\n",
       "}\n",
       "\n",
       "mpl.figure.prototype.handle_draw = function(fig, msg) {\n",
       "    // Request the server to send over a new figure.\n",
       "    fig.send_draw_message();\n",
       "}\n",
       "\n",
       "mpl.figure.prototype.handle_image_mode = function(fig, msg) {\n",
       "    fig.image_mode = msg['mode'];\n",
       "}\n",
       "\n",
       "mpl.figure.prototype.updated_canvas_event = function() {\n",
       "    // Called whenever the canvas gets updated.\n",
       "    this.send_message(\"ack\", {});\n",
       "}\n",
       "\n",
       "// A function to construct a web socket function for onmessage handling.\n",
       "// Called in the figure constructor.\n",
       "mpl.figure.prototype._make_on_message_function = function(fig) {\n",
       "    return function socket_on_message(evt) {\n",
       "        if (evt.data instanceof Blob) {\n",
       "            /* FIXME: We get \"Resource interpreted as Image but\n",
       "             * transferred with MIME type text/plain:\" errors on\n",
       "             * Chrome.  But how to set the MIME type?  It doesn't seem\n",
       "             * to be part of the websocket stream */\n",
       "            evt.data.type = \"image/png\";\n",
       "\n",
       "            /* Free the memory for the previous frames */\n",
       "            if (fig.imageObj.src) {\n",
       "                (window.URL || window.webkitURL).revokeObjectURL(\n",
       "                    fig.imageObj.src);\n",
       "            }\n",
       "\n",
       "            fig.imageObj.src = (window.URL || window.webkitURL).createObjectURL(\n",
       "                evt.data);\n",
       "            fig.updated_canvas_event();\n",
       "            fig.waiting = false;\n",
       "            return;\n",
       "        }\n",
       "        else if (typeof evt.data === 'string' && evt.data.slice(0, 21) == \"data:image/png;base64\") {\n",
       "            fig.imageObj.src = evt.data;\n",
       "            fig.updated_canvas_event();\n",
       "            fig.waiting = false;\n",
       "            return;\n",
       "        }\n",
       "\n",
       "        var msg = JSON.parse(evt.data);\n",
       "        var msg_type = msg['type'];\n",
       "\n",
       "        // Call the  \"handle_{type}\" callback, which takes\n",
       "        // the figure and JSON message as its only arguments.\n",
       "        try {\n",
       "            var callback = fig[\"handle_\" + msg_type];\n",
       "        } catch (e) {\n",
       "            console.log(\"No handler for the '\" + msg_type + \"' message type: \", msg);\n",
       "            return;\n",
       "        }\n",
       "\n",
       "        if (callback) {\n",
       "            try {\n",
       "                // console.log(\"Handling '\" + msg_type + \"' message: \", msg);\n",
       "                callback(fig, msg);\n",
       "            } catch (e) {\n",
       "                console.log(\"Exception inside the 'handler_\" + msg_type + \"' callback:\", e, e.stack, msg);\n",
       "            }\n",
       "        }\n",
       "    };\n",
       "}\n",
       "\n",
       "// from http://stackoverflow.com/questions/1114465/getting-mouse-location-in-canvas\n",
       "mpl.findpos = function(e) {\n",
       "    //this section is from http://www.quirksmode.org/js/events_properties.html\n",
       "    var targ;\n",
       "    if (!e)\n",
       "        e = window.event;\n",
       "    if (e.target)\n",
       "        targ = e.target;\n",
       "    else if (e.srcElement)\n",
       "        targ = e.srcElement;\n",
       "    if (targ.nodeType == 3) // defeat Safari bug\n",
       "        targ = targ.parentNode;\n",
       "\n",
       "    // jQuery normalizes the pageX and pageY\n",
       "    // pageX,Y are the mouse positions relative to the document\n",
       "    // offset() returns the position of the element relative to the document\n",
       "    var x = e.pageX - $(targ).offset().left;\n",
       "    var y = e.pageY - $(targ).offset().top;\n",
       "\n",
       "    return {\"x\": x, \"y\": y};\n",
       "};\n",
       "\n",
       "/*\n",
       " * return a copy of an object with only non-object keys\n",
       " * we need this to avoid circular references\n",
       " * http://stackoverflow.com/a/24161582/3208463\n",
       " */\n",
       "function simpleKeys (original) {\n",
       "  return Object.keys(original).reduce(function (obj, key) {\n",
       "    if (typeof original[key] !== 'object')\n",
       "        obj[key] = original[key]\n",
       "    return obj;\n",
       "  }, {});\n",
       "}\n",
       "\n",
       "mpl.figure.prototype.mouse_event = function(event, name) {\n",
       "    var canvas_pos = mpl.findpos(event)\n",
       "\n",
       "    if (name === 'button_press')\n",
       "    {\n",
       "        this.canvas.focus();\n",
       "        this.canvas_div.focus();\n",
       "    }\n",
       "\n",
       "    var x = canvas_pos.x * mpl.ratio;\n",
       "    var y = canvas_pos.y * mpl.ratio;\n",
       "\n",
       "    this.send_message(name, {x: x, y: y, button: event.button,\n",
       "                             step: event.step,\n",
       "                             guiEvent: simpleKeys(event)});\n",
       "\n",
       "    /* This prevents the web browser from automatically changing to\n",
       "     * the text insertion cursor when the button is pressed.  We want\n",
       "     * to control all of the cursor setting manually through the\n",
       "     * 'cursor' event from matplotlib */\n",
       "    event.preventDefault();\n",
       "    return false;\n",
       "}\n",
       "\n",
       "mpl.figure.prototype._key_event_extra = function(event, name) {\n",
       "    // Handle any extra behaviour associated with a key event\n",
       "}\n",
       "\n",
       "mpl.figure.prototype.key_event = function(event, name) {\n",
       "\n",
       "    // Prevent repeat events\n",
       "    if (name == 'key_press')\n",
       "    {\n",
       "        if (event.which === this._key)\n",
       "            return;\n",
       "        else\n",
       "            this._key = event.which;\n",
       "    }\n",
       "    if (name == 'key_release')\n",
       "        this._key = null;\n",
       "\n",
       "    var value = '';\n",
       "    if (event.ctrlKey && event.which != 17)\n",
       "        value += \"ctrl+\";\n",
       "    if (event.altKey && event.which != 18)\n",
       "        value += \"alt+\";\n",
       "    if (event.shiftKey && event.which != 16)\n",
       "        value += \"shift+\";\n",
       "\n",
       "    value += 'k';\n",
       "    value += event.which.toString();\n",
       "\n",
       "    this._key_event_extra(event, name);\n",
       "\n",
       "    this.send_message(name, {key: value,\n",
       "                             guiEvent: simpleKeys(event)});\n",
       "    return false;\n",
       "}\n",
       "\n",
       "mpl.figure.prototype.toolbar_button_onclick = function(name) {\n",
       "    if (name == 'download') {\n",
       "        this.handle_save(this, null);\n",
       "    } else {\n",
       "        this.send_message(\"toolbar_button\", {name: name});\n",
       "    }\n",
       "};\n",
       "\n",
       "mpl.figure.prototype.toolbar_button_onmouseover = function(tooltip) {\n",
       "    this.message.textContent = tooltip;\n",
       "};\n",
       "mpl.toolbar_items = [[\"Home\", \"Reset original view\", \"fa fa-home icon-home\", \"home\"], [\"Back\", \"Back to  previous view\", \"fa fa-arrow-left icon-arrow-left\", \"back\"], [\"Forward\", \"Forward to next view\", \"fa fa-arrow-right icon-arrow-right\", \"forward\"], [\"\", \"\", \"\", \"\"], [\"Pan\", \"Pan axes with left mouse, zoom with right\", \"fa fa-arrows icon-move\", \"pan\"], [\"Zoom\", \"Zoom to rectangle\", \"fa fa-square-o icon-check-empty\", \"zoom\"], [\"\", \"\", \"\", \"\"], [\"Download\", \"Download plot\", \"fa fa-floppy-o icon-save\", \"download\"]];\n",
       "\n",
       "mpl.extensions = [\"eps\", \"jpeg\", \"pdf\", \"png\", \"ps\", \"raw\", \"svg\", \"tif\"];\n",
       "\n",
       "mpl.default_extension = \"png\";var comm_websocket_adapter = function(comm) {\n",
       "    // Create a \"websocket\"-like object which calls the given IPython comm\n",
       "    // object with the appropriate methods. Currently this is a non binary\n",
       "    // socket, so there is still some room for performance tuning.\n",
       "    var ws = {};\n",
       "\n",
       "    ws.close = function() {\n",
       "        comm.close()\n",
       "    };\n",
       "    ws.send = function(m) {\n",
       "        //console.log('sending', m);\n",
       "        comm.send(m);\n",
       "    };\n",
       "    // Register the callback with on_msg.\n",
       "    comm.on_msg(function(msg) {\n",
       "        //console.log('receiving', msg['content']['data'], msg);\n",
       "        // Pass the mpl event to the overriden (by mpl) onmessage function.\n",
       "        ws.onmessage(msg['content']['data'])\n",
       "    });\n",
       "    return ws;\n",
       "}\n",
       "\n",
       "mpl.mpl_figure_comm = function(comm, msg) {\n",
       "    // This is the function which gets called when the mpl process\n",
       "    // starts-up an IPython Comm through the \"matplotlib\" channel.\n",
       "\n",
       "    var id = msg.content.data.id;\n",
       "    // Get hold of the div created by the display call when the Comm\n",
       "    // socket was opened in Python.\n",
       "    var element = $(\"#\" + id);\n",
       "    var ws_proxy = comm_websocket_adapter(comm)\n",
       "\n",
       "    function ondownload(figure, format) {\n",
       "        window.open(figure.imageObj.src);\n",
       "    }\n",
       "\n",
       "    var fig = new mpl.figure(id, ws_proxy,\n",
       "                           ondownload,\n",
       "                           element.get(0));\n",
       "\n",
       "    // Call onopen now - mpl needs it, as it is assuming we've passed it a real\n",
       "    // web socket which is closed, not our websocket->open comm proxy.\n",
       "    ws_proxy.onopen();\n",
       "\n",
       "    fig.parent_element = element.get(0);\n",
       "    fig.cell_info = mpl.find_output_cell(\"<div id='\" + id + \"'></div>\");\n",
       "    if (!fig.cell_info) {\n",
       "        console.error(\"Failed to find cell for figure\", id, fig);\n",
       "        return;\n",
       "    }\n",
       "\n",
       "    var output_index = fig.cell_info[2]\n",
       "    var cell = fig.cell_info[0];\n",
       "\n",
       "};\n",
       "\n",
       "mpl.figure.prototype.handle_close = function(fig, msg) {\n",
       "    var width = fig.canvas.width/mpl.ratio\n",
       "    fig.root.unbind('remove')\n",
       "\n",
       "    // Update the output cell to use the data from the current canvas.\n",
       "    fig.push_to_output();\n",
       "    var dataURL = fig.canvas.toDataURL();\n",
       "    // Re-enable the keyboard manager in IPython - without this line, in FF,\n",
       "    // the notebook keyboard shortcuts fail.\n",
       "    IPython.keyboard_manager.enable()\n",
       "    $(fig.parent_element).html('<img src=\"' + dataURL + '\" width=\"' + width + '\">');\n",
       "    fig.close_ws(fig, msg);\n",
       "}\n",
       "\n",
       "mpl.figure.prototype.close_ws = function(fig, msg){\n",
       "    fig.send_message('closing', msg);\n",
       "    // fig.ws.close()\n",
       "}\n",
       "\n",
       "mpl.figure.prototype.push_to_output = function(remove_interactive) {\n",
       "    // Turn the data on the canvas into data in the output cell.\n",
       "    var width = this.canvas.width/mpl.ratio\n",
       "    var dataURL = this.canvas.toDataURL();\n",
       "    this.cell_info[1]['text/html'] = '<img src=\"' + dataURL + '\" width=\"' + width + '\">';\n",
       "}\n",
       "\n",
       "mpl.figure.prototype.updated_canvas_event = function() {\n",
       "    // Tell IPython that the notebook contents must change.\n",
       "    IPython.notebook.set_dirty(true);\n",
       "    this.send_message(\"ack\", {});\n",
       "    var fig = this;\n",
       "    // Wait a second, then push the new image to the DOM so\n",
       "    // that it is saved nicely (might be nice to debounce this).\n",
       "    setTimeout(function () { fig.push_to_output() }, 1000);\n",
       "}\n",
       "\n",
       "mpl.figure.prototype._init_toolbar = function() {\n",
       "    var fig = this;\n",
       "\n",
       "    var nav_element = $('<div/>')\n",
       "    nav_element.attr('style', 'width: 100%');\n",
       "    this.root.append(nav_element);\n",
       "\n",
       "    // Define a callback function for later on.\n",
       "    function toolbar_event(event) {\n",
       "        return fig.toolbar_button_onclick(event['data']);\n",
       "    }\n",
       "    function toolbar_mouse_event(event) {\n",
       "        return fig.toolbar_button_onmouseover(event['data']);\n",
       "    }\n",
       "\n",
       "    for(var toolbar_ind in mpl.toolbar_items){\n",
       "        var name = mpl.toolbar_items[toolbar_ind][0];\n",
       "        var tooltip = mpl.toolbar_items[toolbar_ind][1];\n",
       "        var image = mpl.toolbar_items[toolbar_ind][2];\n",
       "        var method_name = mpl.toolbar_items[toolbar_ind][3];\n",
       "\n",
       "        if (!name) { continue; };\n",
       "\n",
       "        var button = $('<button class=\"btn btn-default\" href=\"#\" title=\"' + name + '\"><i class=\"fa ' + image + ' fa-lg\"></i></button>');\n",
       "        button.click(method_name, toolbar_event);\n",
       "        button.mouseover(tooltip, toolbar_mouse_event);\n",
       "        nav_element.append(button);\n",
       "    }\n",
       "\n",
       "    // Add the status bar.\n",
       "    var status_bar = $('<span class=\"mpl-message\" style=\"text-align:right; float: right;\"/>');\n",
       "    nav_element.append(status_bar);\n",
       "    this.message = status_bar[0];\n",
       "\n",
       "    // Add the close button to the window.\n",
       "    var buttongrp = $('<div class=\"btn-group inline pull-right\"></div>');\n",
       "    var button = $('<button class=\"btn btn-mini btn-primary\" href=\"#\" title=\"Stop Interaction\"><i class=\"fa fa-power-off icon-remove icon-large\"></i></button>');\n",
       "    button.click(function (evt) { fig.handle_close(fig, {}); } );\n",
       "    button.mouseover('Stop Interaction', toolbar_mouse_event);\n",
       "    buttongrp.append(button);\n",
       "    var titlebar = this.root.find($('.ui-dialog-titlebar'));\n",
       "    titlebar.prepend(buttongrp);\n",
       "}\n",
       "\n",
       "mpl.figure.prototype._root_extra_style = function(el){\n",
       "    var fig = this\n",
       "    el.on(\"remove\", function(){\n",
       "\tfig.close_ws(fig, {});\n",
       "    });\n",
       "}\n",
       "\n",
       "mpl.figure.prototype._canvas_extra_style = function(el){\n",
       "    // this is important to make the div 'focusable\n",
       "    el.attr('tabindex', 0)\n",
       "    // reach out to IPython and tell the keyboard manager to turn it's self\n",
       "    // off when our div gets focus\n",
       "\n",
       "    // location in version 3\n",
       "    if (IPython.notebook.keyboard_manager) {\n",
       "        IPython.notebook.keyboard_manager.register_events(el);\n",
       "    }\n",
       "    else {\n",
       "        // location in version 2\n",
       "        IPython.keyboard_manager.register_events(el);\n",
       "    }\n",
       "\n",
       "}\n",
       "\n",
       "mpl.figure.prototype._key_event_extra = function(event, name) {\n",
       "    var manager = IPython.notebook.keyboard_manager;\n",
       "    if (!manager)\n",
       "        manager = IPython.keyboard_manager;\n",
       "\n",
       "    // Check for shift+enter\n",
       "    if (event.shiftKey && event.which == 13) {\n",
       "        this.canvas_div.blur();\n",
       "        // select the cell after this one\n",
       "        var index = IPython.notebook.find_cell_index(this.cell_info[0]);\n",
       "        IPython.notebook.select(index + 1);\n",
       "    }\n",
       "}\n",
       "\n",
       "mpl.figure.prototype.handle_save = function(fig, msg) {\n",
       "    fig.ondownload(fig, null);\n",
       "}\n",
       "\n",
       "\n",
       "mpl.find_output_cell = function(html_output) {\n",
       "    // Return the cell and output element which can be found *uniquely* in the notebook.\n",
       "    // Note - this is a bit hacky, but it is done because the \"notebook_saving.Notebook\"\n",
       "    // IPython event is triggered only after the cells have been serialised, which for\n",
       "    // our purposes (turning an active figure into a static one), is too late.\n",
       "    var cells = IPython.notebook.get_cells();\n",
       "    var ncells = cells.length;\n",
       "    for (var i=0; i<ncells; i++) {\n",
       "        var cell = cells[i];\n",
       "        if (cell.cell_type === 'code'){\n",
       "            for (var j=0; j<cell.output_area.outputs.length; j++) {\n",
       "                var data = cell.output_area.outputs[j];\n",
       "                if (data.data) {\n",
       "                    // IPython >= 3 moved mimebundle to data attribute of output\n",
       "                    data = data.data;\n",
       "                }\n",
       "                if (data['text/html'] == html_output) {\n",
       "                    return [cell, data, j];\n",
       "                }\n",
       "            }\n",
       "        }\n",
       "    }\n",
       "}\n",
       "\n",
       "// Register the function which deals with the matplotlib target/channel.\n",
       "// The kernel may be null if the page has been refreshed.\n",
       "if (IPython.notebook.kernel != null) {\n",
       "    IPython.notebook.kernel.comm_manager.register_target('matplotlib', mpl.mpl_figure_comm);\n",
       "}\n"
      ],
      "text/plain": [
       "<IPython.core.display.Javascript object>"
      ]
     },
     "metadata": {},
     "output_type": "display_data"
    },
    {
     "data": {
      "text/html": [
       "<img src=\"data:image/png;base64,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\" width=\"640\">"
      ],
      "text/plain": [
       "<IPython.core.display.HTML object>"
      ]
     },
     "metadata": {},
     "output_type": "display_data"
    }
   ],
   "source": [
    "# You may wish to view the PageRank graphically.\n",
    "# This code will draw a bar chart, for each (numbered) website on the generated internet,\n",
    "# The height of each bar will be the score in the PageRank.\n",
    "# Run this code to see the PageRank for each internet you generate.\n",
    "# Hopefully you should see what you might expect\n",
    "# - there are a few clusters of important websites, but most on the internet are rubbish!\n",
    "%pylab notebook\n",
    "r = pageRank(generate_internet(1000), 0.9)\n",
    "plt.bar(arange(r.shape[0]), r);"
   ]
  },
  {
   "cell_type": "code",
   "execution_count": null,
   "metadata": {
    "collapsed": true
   },
   "outputs": [],
   "source": []
  }
 ],
 "metadata": {
  "coursera": {
   "course_slug": "linear-algebra-machine-learning",
   "graded_item_id": "Sfbnp",
   "launcher_item_id": "aPxf3"
  },
  "kernelspec": {
   "display_name": "Python 3",
   "language": "python",
   "name": "python3"
  },
  "language_info": {
   "codemirror_mode": {
    "name": "ipython",
    "version": 3
   },
   "file_extension": ".py",
   "mimetype": "text/x-python",
   "name": "python",
   "nbconvert_exporter": "python",
   "pygments_lexer": "ipython3",
   "version": "3.6.2"
  }
 },
 "nbformat": 4,
 "nbformat_minor": 1
}
