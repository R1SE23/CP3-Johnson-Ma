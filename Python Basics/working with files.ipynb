{
 "cells": [
  {
   "cell_type": "code",
   "execution_count": 1,
   "metadata": {},
   "outputs": [
    {
     "data": {
      "text/plain": [
       "'C:\\\\Users\\\\User\\\\Desktop\\\\python\\\\Python Basics'"
      ]
     },
     "execution_count": 1,
     "metadata": {},
     "output_type": "execute_result"
    }
   ],
   "source": [
    "pwd"
   ]
  },
  {
   "cell_type": "code",
   "execution_count": 2,
   "metadata": {},
   "outputs": [],
   "source": [
    "f = open('practice.txt','w+')\n",
    "f.write('this is a practice text file')\n",
    "f.close()"
   ]
  },
  {
   "cell_type": "code",
   "execution_count": 2,
   "metadata": {},
   "outputs": [],
   "source": [
    "import os"
   ]
  },
  {
   "cell_type": "code",
   "execution_count": 4,
   "metadata": {},
   "outputs": [
    {
     "data": {
      "text/plain": [
       "'C:\\\\Users\\\\User\\\\Desktop\\\\python\\\\Python Basics'"
      ]
     },
     "execution_count": 4,
     "metadata": {},
     "output_type": "execute_result"
    }
   ],
   "source": [
    "os.getcwd()"
   ]
  },
  {
   "cell_type": "code",
   "execution_count": 5,
   "metadata": {},
   "outputs": [
    {
     "data": {
      "text/plain": [
       "['.ipynb_checkpoints',\n",
       " 'Advanced Dictionaries.ipynb',\n",
       " 'Advanced Lists.ipynb',\n",
       " 'Advanced Python Object Assessment.ipynb',\n",
       " 'Advanced Sets.ipynb',\n",
       " 'Advanced String.ipynb',\n",
       " 'Collections Module Counter.ipynb',\n",
       " 'Collections Module DefaultDict.ipynb',\n",
       " 'Collections Module namedtuple.ipynb',\n",
       " 'Collections Module OrderedDict.ipynb',\n",
       " 'Datetime module.ipynb',\n",
       " 'Decorators Practice and Generator Practice.ipynb',\n",
       " 'Estimate Pi using Monte Carlo Method.ipynb',\n",
       " 'Images',\n",
       " 'practice.txt',\n",
       " 'Python Debugger.ipynb',\n",
       " 'Sending Emails.ipynb',\n",
       " 'Timing your code- timeit.ipynb',\n",
       " 'Untitled.ipynb',\n",
       " 'Working with images.ipynb']"
      ]
     },
     "execution_count": 5,
     "metadata": {},
     "output_type": "execute_result"
    }
   ],
   "source": [
    "os.listdir()"
   ]
  },
  {
   "cell_type": "code",
   "execution_count": 7,
   "metadata": {},
   "outputs": [
    {
     "data": {
      "text/plain": [
       "['23',\n",
       " '6.10',\n",
       " 'AI',\n",
       " 'AP CAL BC',\n",
       " 'Audacity data',\n",
       " 'Camera',\n",
       " 'desktop.ini',\n",
       " 'Discord.lnk',\n",
       " 'Dropbox.lnk',\n",
       " 'Excel 2013.lnk',\n",
       " 'Format Factory.lnk',\n",
       " 'GitHub Desktop.lnk',\n",
       " 'IELTS writing',\n",
       " 'Learn Anywhere.lnk',\n",
       " 'LINE.lnk',\n",
       " 'Minecraft',\n",
       " 'Netflix.lnk',\n",
       " 'Photo Competition',\n",
       " 'PhotoScape.lnk',\n",
       " 'PowerPoint 2013.lnk',\n",
       " 'Pycharm Projects',\n",
       " 'python',\n",
       " 'Python Projects',\n",
       " 'Roblox Player.lnk',\n",
       " 'Roblox Studio.lnk',\n",
       " 'SAT READING',\n",
       " 'Scribblenauts Unlimited.url',\n",
       " 'Spotify.lnk',\n",
       " 'The Silent Age.url',\n",
       " 'while True learn().url',\n",
       " 'Word 2013.lnk',\n",
       " 'Zoom.lnk',\n",
       " '~$คมีnew.docx',\n",
       " '~$ที่ 2 เอกสารที่เกี่ยวข้องกับการทำโครงงาน.docx']"
      ]
     },
     "execution_count": 7,
     "metadata": {},
     "output_type": "execute_result"
    }
   ],
   "source": [
    "os.listdir('C:\\\\Users\\\\User\\\\Desktop')"
   ]
  },
  {
   "cell_type": "code",
   "execution_count": 8,
   "metadata": {},
   "outputs": [],
   "source": [
    "import shutil # show utility"
   ]
  },
  {
   "cell_type": "code",
   "execution_count": 10,
   "metadata": {},
   "outputs": [
    {
     "data": {
      "text/plain": [
       "'C:\\\\Users\\\\User\\\\Desktop\\\\python\\\\practice.txt'"
      ]
     },
     "execution_count": 10,
     "metadata": {},
     "output_type": "execute_result"
    }
   ],
   "source": [
    "shutil.move('practice.txt','C:\\\\Users\\\\User\\\\Desktop\\\\python')"
   ]
  },
  {
   "cell_type": "code",
   "execution_count": 13,
   "metadata": {},
   "outputs": [],
   "source": [
    "import send2trash"
   ]
  },
  {
   "cell_type": "code",
   "execution_count": 15,
   "metadata": {},
   "outputs": [
    {
     "data": {
      "text/plain": [
       "['.ipynb_checkpoints',\n",
       " 'Advanced Dictionaries.ipynb',\n",
       " 'Advanced Lists.ipynb',\n",
       " 'Advanced Python Object Assessment.ipynb',\n",
       " 'Advanced Sets.ipynb',\n",
       " 'Advanced String.ipynb',\n",
       " 'Collections Module Counter.ipynb',\n",
       " 'Collections Module DefaultDict.ipynb',\n",
       " 'Collections Module namedtuple.ipynb',\n",
       " 'Collections Module OrderedDict.ipynb',\n",
       " 'Datetime module.ipynb',\n",
       " 'Decorators Practice and Generator Practice.ipynb',\n",
       " 'Estimate Pi using Monte Carlo Method.ipynb',\n",
       " 'Images',\n",
       " 'practice.txt',\n",
       " 'Python Debugger.ipynb',\n",
       " 'Sending Emails.ipynb',\n",
       " 'Timing your code- timeit.ipynb',\n",
       " 'working with files.ipynb',\n",
       " 'Working with images.ipynb']"
      ]
     },
     "execution_count": 15,
     "metadata": {},
     "output_type": "execute_result"
    }
   ],
   "source": [
    "os.listdir()"
   ]
  },
  {
   "cell_type": "code",
   "execution_count": 16,
   "metadata": {},
   "outputs": [],
   "source": [
    "send2trash.send2trash('practice.txt')"
   ]
  },
  {
   "cell_type": "code",
   "execution_count": 17,
   "metadata": {},
   "outputs": [
    {
     "data": {
      "text/plain": [
       "['.ipynb_checkpoints',\n",
       " 'Advanced Dictionaries.ipynb',\n",
       " 'Advanced Lists.ipynb',\n",
       " 'Advanced Python Object Assessment.ipynb',\n",
       " 'Advanced Sets.ipynb',\n",
       " 'Advanced String.ipynb',\n",
       " 'Collections Module Counter.ipynb',\n",
       " 'Collections Module DefaultDict.ipynb',\n",
       " 'Collections Module namedtuple.ipynb',\n",
       " 'Collections Module OrderedDict.ipynb',\n",
       " 'Datetime module.ipynb',\n",
       " 'Decorators Practice and Generator Practice.ipynb',\n",
       " 'Estimate Pi using Monte Carlo Method.ipynb',\n",
       " 'Images',\n",
       " 'Python Debugger.ipynb',\n",
       " 'Sending Emails.ipynb',\n",
       " 'Timing your code- timeit.ipynb',\n",
       " 'working with files.ipynb',\n",
       " 'Working with images.ipynb']"
      ]
     },
     "execution_count": 17,
     "metadata": {},
     "output_type": "execute_result"
    }
   ],
   "source": [
    "os.listdir()"
   ]
  },
  {
   "cell_type": "code",
   "execution_count": 19,
   "metadata": {},
   "outputs": [
    {
     "data": {
      "text/plain": [
       "'C:\\\\Users\\\\User\\\\Desktop\\\\python\\\\Python Basics'"
      ]
     },
     "execution_count": 19,
     "metadata": {},
     "output_type": "execute_result"
    }
   ],
   "source": [
    "os.getcwd()"
   ]
  },
  {
   "cell_type": "code",
   "execution_count": 3,
   "metadata": {},
   "outputs": [
    {
     "name": "stdout",
     "output_type": "stream",
     "text": [
      "Currently looking at C:\\Users\\User\\Desktop\\python\\Python Basics\\Images\n",
      "\n",
      "\n",
      "The subfolders are: \n",
      "\n",
      "\n",
      "the files are: \n",
      "\tFile: Football.jpg\n",
      "\n",
      "\n"
     ]
    }
   ],
   "source": [
    "file_path = 'C:\\\\Users\\\\User\\\\Desktop\\\\python\\\\Python Basics\\\\Images'\n",
    "a = 'Football'\n",
    "for folder, sub_folders, files in os.walk(file_path):\n",
    "    print(f\"Currently looking at {folder}\")\n",
    "    print('\\n')\n",
    "    print('The subfolders are: ')\n",
    "    for sub_folders in sub_folders:\n",
    "        print(f\"\\tSubfolder: {sub_folders}\")\n",
    "    print('\\n')\n",
    "    print(\"the files are: \")\n",
    "    for f in files:\n",
    "        if a in f:\n",
    "            print(f\"\\tFile: {f}\")\n",
    "    print('\\n')"
   ]
  },
  {
   "cell_type": "code",
   "execution_count": null,
   "metadata": {},
   "outputs": [],
   "source": []
  }
 ],
 "metadata": {
  "kernelspec": {
   "display_name": "Python 3",
   "language": "python",
   "name": "python3"
  },
  "language_info": {
   "codemirror_mode": {
    "name": "ipython",
    "version": 3
   },
   "file_extension": ".py",
   "mimetype": "text/x-python",
   "name": "python",
   "nbconvert_exporter": "python",
   "pygments_lexer": "ipython3",
   "version": "3.7.3"
  }
 },
 "nbformat": 4,
 "nbformat_minor": 2
}
