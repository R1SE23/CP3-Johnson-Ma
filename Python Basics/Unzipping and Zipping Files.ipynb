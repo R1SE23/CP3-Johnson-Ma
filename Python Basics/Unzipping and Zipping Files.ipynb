{
 "cells": [
  {
   "cell_type": "code",
   "execution_count": 5,
   "metadata": {},
   "outputs": [],
   "source": [
    "import zipfile"
   ]
  },
  {
   "cell_type": "code",
   "execution_count": 3,
   "metadata": {},
   "outputs": [],
   "source": [
    "f = open('fileone.txt','w+')\n",
    "f.write(\"ONE FILE\")\n",
    "f.close()"
   ]
  },
  {
   "cell_type": "code",
   "execution_count": 4,
   "metadata": {},
   "outputs": [],
   "source": [
    "f = open('filetwo.txt','w+')\n",
    "f.write(\"SECOND FILE\")\n",
    "f.close()"
   ]
  },
  {
   "cell_type": "code",
   "execution_count": 6,
   "metadata": {},
   "outputs": [],
   "source": [
    "comp_file = zipfile.ZipFile('comp_file.zip','w')"
   ]
  },
  {
   "cell_type": "code",
   "execution_count": 7,
   "metadata": {},
   "outputs": [],
   "source": [
    "comp_file.write('fileone.txt',compress_type=zipfile.ZIP_DEFLATED)"
   ]
  },
  {
   "cell_type": "code",
   "execution_count": 10,
   "metadata": {},
   "outputs": [
    {
     "ename": "ValueError",
     "evalue": "Attempt to write to ZIP archive that was already closed",
     "output_type": "error",
     "traceback": [
      "\u001b[1;31m---------------------------------------------------------------------------\u001b[0m",
      "\u001b[1;31mValueError\u001b[0m                                Traceback (most recent call last)",
      "\u001b[1;32m<ipython-input-10-04e7b48cea57>\u001b[0m in \u001b[0;36m<module>\u001b[1;34m\u001b[0m\n\u001b[1;32m----> 1\u001b[1;33m \u001b[0mcomp_file\u001b[0m\u001b[1;33m.\u001b[0m\u001b[0mwrite\u001b[0m\u001b[1;33m(\u001b[0m\u001b[1;34m'filetwo.txt'\u001b[0m\u001b[1;33m,\u001b[0m\u001b[0mcompress_type\u001b[0m\u001b[1;33m=\u001b[0m\u001b[0mzipfile\u001b[0m\u001b[1;33m.\u001b[0m\u001b[0mZIP_DEFLATED\u001b[0m\u001b[1;33m)\u001b[0m\u001b[1;33m\u001b[0m\u001b[1;33m\u001b[0m\u001b[0m\n\u001b[0m",
      "\u001b[1;32m~\\Anaconda3\\lib\\zipfile.py\u001b[0m in \u001b[0;36mwrite\u001b[1;34m(self, filename, arcname, compress_type, compresslevel)\u001b[0m\n\u001b[0;32m   1702\u001b[0m         \u001b[1;32mif\u001b[0m \u001b[1;32mnot\u001b[0m \u001b[0mself\u001b[0m\u001b[1;33m.\u001b[0m\u001b[0mfp\u001b[0m\u001b[1;33m:\u001b[0m\u001b[1;33m\u001b[0m\u001b[1;33m\u001b[0m\u001b[0m\n\u001b[0;32m   1703\u001b[0m             raise ValueError(\n\u001b[1;32m-> 1704\u001b[1;33m                 \"Attempt to write to ZIP archive that was already closed\")\n\u001b[0m\u001b[0;32m   1705\u001b[0m         \u001b[1;32mif\u001b[0m \u001b[0mself\u001b[0m\u001b[1;33m.\u001b[0m\u001b[0m_writing\u001b[0m\u001b[1;33m:\u001b[0m\u001b[1;33m\u001b[0m\u001b[1;33m\u001b[0m\u001b[0m\n\u001b[0;32m   1706\u001b[0m             raise ValueError(\n",
      "\u001b[1;31mValueError\u001b[0m: Attempt to write to ZIP archive that was already closed"
     ]
    }
   ],
   "source": [
    "comp_file.write('filetwo.txt',compress_type=zipfile.ZIP_DEFLATED)"
   ]
  },
  {
   "cell_type": "code",
   "execution_count": 11,
   "metadata": {},
   "outputs": [
    {
     "ename": "TypeError",
     "evalue": "open() missing 1 required positional argument: 'name'",
     "output_type": "error",
     "traceback": [
      "\u001b[1;31m---------------------------------------------------------------------------\u001b[0m",
      "\u001b[1;31mTypeError\u001b[0m                                 Traceback (most recent call last)",
      "\u001b[1;32m<ipython-input-11-0b177ab2fd56>\u001b[0m in \u001b[0;36m<module>\u001b[1;34m\u001b[0m\n\u001b[1;32m----> 1\u001b[1;33m \u001b[0mcomp_file\u001b[0m\u001b[1;33m.\u001b[0m\u001b[0mopen\u001b[0m\u001b[1;33m(\u001b[0m\u001b[1;33m)\u001b[0m\u001b[1;33m\u001b[0m\u001b[1;33m\u001b[0m\u001b[0m\n\u001b[0m",
      "\u001b[1;31mTypeError\u001b[0m: open() missing 1 required positional argument: 'name'"
     ]
    }
   ],
   "source": [
    "comp_file.close()"
   ]
  },
  {
   "cell_type": "code",
   "execution_count": 12,
   "metadata": {},
   "outputs": [],
   "source": [
    "zip_obj = zipfile.ZipFile('comp_file.zip', 'r')"
   ]
  },
  {
   "cell_type": "code",
   "execution_count": 13,
   "metadata": {},
   "outputs": [],
   "source": [
    "zip_obj.extractall('extracted_content')"
   ]
  },
  {
   "cell_type": "code",
   "execution_count": 14,
   "metadata": {},
   "outputs": [],
   "source": [
    "import shutil"
   ]
  },
  {
   "cell_type": "code",
   "execution_count": 15,
   "metadata": {},
   "outputs": [
    {
     "data": {
      "text/plain": [
       "'C:\\\\Users\\\\User\\\\Desktop\\\\python\\\\Python Basics'"
      ]
     },
     "execution_count": 15,
     "metadata": {},
     "output_type": "execute_result"
    }
   ],
   "source": [
    "pwd"
   ]
  },
  {
   "cell_type": "code",
   "execution_count": 16,
   "metadata": {},
   "outputs": [],
   "source": [
    "dir_to_zip = 'C:\\\\Users\\\\User\\\\Desktop\\\\python\\\\Python Basics\\extracted_content'"
   ]
  },
  {
   "cell_type": "code",
   "execution_count": 17,
   "metadata": {},
   "outputs": [],
   "source": [
    "output_filename = 'example'"
   ]
  },
  {
   "cell_type": "code",
   "execution_count": 18,
   "metadata": {},
   "outputs": [
    {
     "data": {
      "text/plain": [
       "'C:\\\\Users\\\\User\\\\Desktop\\\\python\\\\Python Basics\\\\example.zip'"
      ]
     },
     "execution_count": 18,
     "metadata": {},
     "output_type": "execute_result"
    }
   ],
   "source": [
    "shutil.make_archive(output_filename, 'zip', dir_to_zip)"
   ]
  },
  {
   "cell_type": "code",
   "execution_count": 19,
   "metadata": {},
   "outputs": [],
   "source": [
    "shutil.unpack_archive('example.zip','final_unzip','zip')"
   ]
  },
  {
   "cell_type": "code",
   "execution_count": 26,
   "metadata": {},
   "outputs": [],
   "source": [
    "zip_obj2 = zipfile.ZipFile(r'C:\\\\Users\\\\User\\\\Desktop\\\\python\\\\Python Basics\\unzip_me_for_instructions.zip','r')"
   ]
  },
  {
   "cell_type": "code",
   "execution_count": 22,
   "metadata": {},
   "outputs": [
    {
     "data": {
      "text/plain": [
       "'C:\\\\Users\\\\User\\\\Desktop\\\\python\\\\Python Basics'"
      ]
     },
     "execution_count": 22,
     "metadata": {},
     "output_type": "execute_result"
    }
   ],
   "source": [
    "pwd"
   ]
  },
  {
   "cell_type": "code",
   "execution_count": 27,
   "metadata": {},
   "outputs": [],
   "source": [
    "zip_obj2.extractall('ZipQuiz')"
   ]
  },
  {
   "cell_type": "markdown",
   "metadata": {},
   "source": [
    "## Quizzes"
   ]
  },
  {
   "cell_type": "code",
   "execution_count": 32,
   "metadata": {},
   "outputs": [],
   "source": [
    "import os\n",
    "import re"
   ]
  },
  {
   "cell_type": "code",
   "execution_count": 31,
   "metadata": {},
   "outputs": [],
   "source": [
    "file_path = 'C:\\\\Users\\\\User\\\\Desktop\\\\python\\\\Python Basics\\\\ZipQuiz'\n",
    "pattern = '\\d{3}-\\d{3}-\\d{4}'\n",
    "pattern2 = '\\D{11}.txt'\n",
    "for folder, sub_folders, files in os.walk(file_path):\n",
    "    for sub_folders in sub_folders:\n",
    "        for f in files:\n",
    "            for letter in pattern2:\n",
    "                if pattern in letter:\n",
    "                    print('w')\n",
    "    "
   ]
  },
  {
   "cell_type": "code",
   "execution_count": 62,
   "metadata": {},
   "outputs": [],
   "source": [
    "file_path = 'C:\\\\Users\\\\User\\\\Desktop\\\\python\\\\Python Basics\\\\ZipQuiz\\\\extracted_content\\\\Two'\n",
    "pattern = r'\\d{3}-\\d{3}-\\d{4}'\n",
    "pattern2 = r'\\D{11}.txt'\n",
    "for files in file_path:\n",
    "    if pattern2 in files:\n",
    "        f = open(pattern2,\"r\")\n",
    "        for letter in f:\n",
    "            if pattern in letter:\n",
    "                print(letter)"
   ]
  },
  {
   "cell_type": "code",
   "execution_count": 57,
   "metadata": {},
   "outputs": [
    {
     "ename": "TypeError",
     "evalue": "expected string or bytes-like object",
     "output_type": "error",
     "traceback": [
      "\u001b[1;31m---------------------------------------------------------------------------\u001b[0m",
      "\u001b[1;31mTypeError\u001b[0m                                 Traceback (most recent call last)",
      "\u001b[1;32m<ipython-input-57-5d6597c4e704>\u001b[0m in \u001b[0;36m<module>\u001b[1;34m\u001b[0m\n\u001b[0;32m      1\u001b[0m \u001b[0mfile_path\u001b[0m \u001b[1;33m=\u001b[0m \u001b[1;34m'C:\\\\Users\\\\User\\\\Desktop\\\\python\\\\Python Basics\\\\ZipQuiz\\\\extracted_content\\\\Two'\u001b[0m\u001b[1;33m\u001b[0m\u001b[1;33m\u001b[0m\u001b[0m\n\u001b[0;32m      2\u001b[0m \u001b[1;32mfor\u001b[0m \u001b[0mfiles\u001b[0m \u001b[1;32min\u001b[0m \u001b[0mos\u001b[0m\u001b[1;33m.\u001b[0m\u001b[0mwalk\u001b[0m\u001b[1;33m(\u001b[0m\u001b[0mfile_path\u001b[0m\u001b[1;33m)\u001b[0m\u001b[1;33m:\u001b[0m\u001b[1;33m\u001b[0m\u001b[1;33m\u001b[0m\u001b[0m\n\u001b[1;32m----> 3\u001b[1;33m     \u001b[0mre\u001b[0m\u001b[1;33m.\u001b[0m\u001b[0mfindall\u001b[0m\u001b[1;33m(\u001b[0m\u001b[0mpattern\u001b[0m\u001b[1;33m,\u001b[0m\u001b[0mfiles\u001b[0m\u001b[1;33m)\u001b[0m\u001b[1;33m\u001b[0m\u001b[1;33m\u001b[0m\u001b[0m\n\u001b[0m",
      "\u001b[1;32m~\\Anaconda3\\lib\\re.py\u001b[0m in \u001b[0;36mfindall\u001b[1;34m(pattern, string, flags)\u001b[0m\n\u001b[0;32m    221\u001b[0m \u001b[1;33m\u001b[0m\u001b[0m\n\u001b[0;32m    222\u001b[0m     Empty matches are included in the result.\"\"\"\n\u001b[1;32m--> 223\u001b[1;33m     \u001b[1;32mreturn\u001b[0m \u001b[0m_compile\u001b[0m\u001b[1;33m(\u001b[0m\u001b[0mpattern\u001b[0m\u001b[1;33m,\u001b[0m \u001b[0mflags\u001b[0m\u001b[1;33m)\u001b[0m\u001b[1;33m.\u001b[0m\u001b[0mfindall\u001b[0m\u001b[1;33m(\u001b[0m\u001b[0mstring\u001b[0m\u001b[1;33m)\u001b[0m\u001b[1;33m\u001b[0m\u001b[1;33m\u001b[0m\u001b[0m\n\u001b[0m\u001b[0;32m    224\u001b[0m \u001b[1;33m\u001b[0m\u001b[0m\n\u001b[0;32m    225\u001b[0m \u001b[1;32mdef\u001b[0m \u001b[0mfinditer\u001b[0m\u001b[1;33m(\u001b[0m\u001b[0mpattern\u001b[0m\u001b[1;33m,\u001b[0m \u001b[0mstring\u001b[0m\u001b[1;33m,\u001b[0m \u001b[0mflags\u001b[0m\u001b[1;33m=\u001b[0m\u001b[1;36m0\u001b[0m\u001b[1;33m)\u001b[0m\u001b[1;33m:\u001b[0m\u001b[1;33m\u001b[0m\u001b[1;33m\u001b[0m\u001b[0m\n",
      "\u001b[1;31mTypeError\u001b[0m: expected string or bytes-like object"
     ]
    }
   ],
   "source": [
    "file_path = 'C:\\\\Users\\\\User\\\\Desktop\\\\python\\\\Python Basics\\\\ZipQuiz\\\\extracted_content\\\\Two'\n",
    "for files in os.walk(file_path):\n",
    "    re.findall(pattern,files)"
   ]
  },
  {
   "cell_type": "code",
   "execution_count": 49,
   "metadata": {},
   "outputs": [],
   "source": [
    "pattern = r'\\d{3}-\\d{3}-\\d{4}'"
   ]
  },
  {
   "cell_type": "code",
   "execution_count": 51,
   "metadata": {},
   "outputs": [],
   "source": [
    "test_string = 'here is a phone number 123-123-1234'"
   ]
  },
  {
   "cell_type": "code",
   "execution_count": 52,
   "metadata": {},
   "outputs": [
    {
     "data": {
      "text/plain": [
       "['123-123-1234']"
      ]
     },
     "execution_count": 52,
     "metadata": {},
     "output_type": "execute_result"
    }
   ],
   "source": [
    "re.findall(pattern, test_string)"
   ]
  },
  {
   "cell_type": "code",
   "execution_count": 74,
   "metadata": {},
   "outputs": [],
   "source": [
    "def search(file,pattern= r'\\d{3}-\\d{3}-\\d{4}'):\n",
    "    f = open(file, 'r')\n",
    "    text = f.read()\n",
    "    \n",
    "    if re.search(pattern, text):\n",
    "        return re.search(pattern,text)\n",
    "    else:\n",
    "        return \"\""
   ]
  },
  {
   "cell_type": "code",
   "execution_count": 75,
   "metadata": {},
   "outputs": [],
   "source": [
    "results = []"
   ]
  },
  {
   "cell_type": "code",
   "execution_count": 82,
   "metadata": {},
   "outputs": [
    {
     "name": "stdout",
     "output_type": "stream",
     "text": [
      "C:\\Users\\User\\Desktop\\python\\Python Basics\\ZipQuiz\\extracted_content\\Instructions.txt\n",
      "C:\\Users\\User\\Desktop\\python\\Python Basics\\ZipQuiz\\extracted_content\\Five\\AEITMYIRQLP.txt\n",
      "C:\\Users\\User\\Desktop\\python\\Python Basics\\ZipQuiz\\extracted_content\\Five\\APJKSRITGGX.txt\n",
      "C:\\Users\\User\\Desktop\\python\\Python Basics\\ZipQuiz\\extracted_content\\Five\\AQKATDFGXTS.txt\n",
      "C:\\Users\\User\\Desktop\\python\\Python Basics\\ZipQuiz\\extracted_content\\Five\\ARLKFCWIAJE.txt\n",
      "C:\\Users\\User\\Desktop\\python\\Python Basics\\ZipQuiz\\extracted_content\\Five\\AXJGVPVEFAS.txt\n",
      "C:\\Users\\User\\Desktop\\python\\Python Basics\\ZipQuiz\\extracted_content\\Five\\BNUQEHCFRTG.txt\n",
      "C:\\Users\\User\\Desktop\\python\\Python Basics\\ZipQuiz\\extracted_content\\Five\\BSKJDRNEZQM.txt\n",
      "C:\\Users\\User\\Desktop\\python\\Python Basics\\ZipQuiz\\extracted_content\\Five\\BTYWAHLHKBM.txt\n",
      "C:\\Users\\User\\Desktop\\python\\Python Basics\\ZipQuiz\\extracted_content\\Five\\BUGKBZWRRVI.txt\n",
      "C:\\Users\\User\\Desktop\\python\\Python Basics\\ZipQuiz\\extracted_content\\Five\\BVBURZZCAPR.txt\n",
      "C:\\Users\\User\\Desktop\\python\\Python Basics\\ZipQuiz\\extracted_content\\Five\\CAHBEVSVDDN.txt\n",
      "C:\\Users\\User\\Desktop\\python\\Python Basics\\ZipQuiz\\extracted_content\\Five\\COMGMZBJAYE.txt\n",
      "C:\\Users\\User\\Desktop\\python\\Python Basics\\ZipQuiz\\extracted_content\\Five\\CRFSDGYFSHA.txt\n",
      "C:\\Users\\User\\Desktop\\python\\Python Basics\\ZipQuiz\\extracted_content\\Five\\CSCLFZCDYYC.txt\n",
      "C:\\Users\\User\\Desktop\\python\\Python Basics\\ZipQuiz\\extracted_content\\Five\\CXBVCTRBBIE.txt\n",
      "C:\\Users\\User\\Desktop\\python\\Python Basics\\ZipQuiz\\extracted_content\\Five\\DDLASODUVPX.txt\n",
      "C:\\Users\\User\\Desktop\\python\\Python Basics\\ZipQuiz\\extracted_content\\Five\\DHZBAAYEADM.txt\n",
      "C:\\Users\\User\\Desktop\\python\\Python Basics\\ZipQuiz\\extracted_content\\Five\\DQPZQLBCJYP.txt\n",
      "C:\\Users\\User\\Desktop\\python\\Python Basics\\ZipQuiz\\extracted_content\\Five\\DYOPIIVMZOO.txt\n",
      "C:\\Users\\User\\Desktop\\python\\Python Basics\\ZipQuiz\\extracted_content\\Five\\DZUWWXYIAEL.txt\n",
      "C:\\Users\\User\\Desktop\\python\\Python Basics\\ZipQuiz\\extracted_content\\Five\\EAAOEPSAWMQ.txt\n",
      "C:\\Users\\User\\Desktop\\python\\Python Basics\\ZipQuiz\\extracted_content\\Five\\EIPWXMQZJKU.txt\n",
      "C:\\Users\\User\\Desktop\\python\\Python Basics\\ZipQuiz\\extracted_content\\Five\\ESIZWBHMGDP.txt\n",
      "C:\\Users\\User\\Desktop\\python\\Python Basics\\ZipQuiz\\extracted_content\\Five\\ETCUEXWNBCF.txt\n",
      "C:\\Users\\User\\Desktop\\python\\Python Basics\\ZipQuiz\\extracted_content\\Five\\EYTCGIOYWIW.txt\n",
      "C:\\Users\\User\\Desktop\\python\\Python Basics\\ZipQuiz\\extracted_content\\Four\\ECIOBYCDVFI.txt\n",
      "C:\\Users\\User\\Desktop\\python\\Python Basics\\ZipQuiz\\extracted_content\\Four\\EMTGPSXQEJX.txt\n",
      "C:\\Users\\User\\Desktop\\python\\Python Basics\\ZipQuiz\\extracted_content\\Four\\EPRNUHRSESC.txt\n",
      "C:\\Users\\User\\Desktop\\python\\Python Basics\\ZipQuiz\\extracted_content\\Four\\ESDIZXHYCVY.txt\n",
      "C:\\Users\\User\\Desktop\\python\\Python Basics\\ZipQuiz\\extracted_content\\Four\\EXVQSVBQQQH.txt\n",
      "C:\\Users\\User\\Desktop\\python\\Python Basics\\ZipQuiz\\extracted_content\\Four\\QCTCKDIBBVG.txt\n",
      "C:\\Users\\User\\Desktop\\python\\Python Basics\\ZipQuiz\\extracted_content\\Four\\QCWCFLKNZMN.txt\n",
      "C:\\Users\\User\\Desktop\\python\\Python Basics\\ZipQuiz\\extracted_content\\Four\\QDDETWBHJYC.txt\n",
      "C:\\Users\\User\\Desktop\\python\\Python Basics\\ZipQuiz\\extracted_content\\Four\\QTDYYIFPHAU.txt\n",
      "C:\\Users\\User\\Desktop\\python\\Python Basics\\ZipQuiz\\extracted_content\\Four\\QVNJULGXNUM.txt\n",
      "C:\\Users\\User\\Desktop\\python\\Python Basics\\ZipQuiz\\extracted_content\\Four\\REAXWSOIQDY.txt\n",
      "C:\\Users\\User\\Desktop\\python\\Python Basics\\ZipQuiz\\extracted_content\\Four\\ROICPTWKXDX.txt\n",
      "C:\\Users\\User\\Desktop\\python\\Python Basics\\ZipQuiz\\extracted_content\\Four\\RSXOTNGKBML.txt\n",
      "C:\\Users\\User\\Desktop\\python\\Python Basics\\ZipQuiz\\extracted_content\\Four\\RXDARIDGKBF.txt\n",
      "C:\\Users\\User\\Desktop\\python\\Python Basics\\ZipQuiz\\extracted_content\\Four\\RYNXFYXMKHG.txt\n",
      "C:\\Users\\User\\Desktop\\python\\Python Basics\\ZipQuiz\\extracted_content\\Four\\TAKNAVDMZKV.txt\n",
      "C:\\Users\\User\\Desktop\\python\\Python Basics\\ZipQuiz\\extracted_content\\Four\\THPNEGKTJWI.txt\n",
      "C:\\Users\\User\\Desktop\\python\\Python Basics\\ZipQuiz\\extracted_content\\Four\\TJFMLJODVAD.txt\n",
      "C:\\Users\\User\\Desktop\\python\\Python Basics\\ZipQuiz\\extracted_content\\Four\\TKCZSFQNJTX.txt\n",
      "C:\\Users\\User\\Desktop\\python\\Python Basics\\ZipQuiz\\extracted_content\\Four\\TWUOYFCCYBQ.txt\n",
      "C:\\Users\\User\\Desktop\\python\\Python Basics\\ZipQuiz\\extracted_content\\Four\\WFSKPTXPFCH.txt\n",
      "C:\\Users\\User\\Desktop\\python\\Python Basics\\ZipQuiz\\extracted_content\\Four\\WHTOHQUWXIN.txt\n",
      "C:\\Users\\User\\Desktop\\python\\Python Basics\\ZipQuiz\\extracted_content\\Four\\WNJISWPEBRS.txt\n",
      "C:\\Users\\User\\Desktop\\python\\Python Basics\\ZipQuiz\\extracted_content\\Four\\WXDJDOGZEHN.txt\n",
      "C:\\Users\\User\\Desktop\\python\\Python Basics\\ZipQuiz\\extracted_content\\Four\\WYDLGSGGXKV.txt\n",
      "C:\\Users\\User\\Desktop\\python\\Python Basics\\ZipQuiz\\extracted_content\\One\\HDOHZHFSTTK.txt\n",
      "C:\\Users\\User\\Desktop\\python\\Python Basics\\ZipQuiz\\extracted_content\\One\\HFUTPPAXDIS.txt\n",
      "C:\\Users\\User\\Desktop\\python\\Python Basics\\ZipQuiz\\extracted_content\\One\\HMNZTLIFGPD.txt\n",
      "C:\\Users\\User\\Desktop\\python\\Python Basics\\ZipQuiz\\extracted_content\\One\\HRQFTHKVJTL.txt\n",
      "C:\\Users\\User\\Desktop\\python\\Python Basics\\ZipQuiz\\extracted_content\\One\\HVUTZEVMSBW.txt\n",
      "C:\\Users\\User\\Desktop\\python\\Python Basics\\ZipQuiz\\extracted_content\\One\\JDLRVFCXYLU.txt\n",
      "C:\\Users\\User\\Desktop\\python\\Python Basics\\ZipQuiz\\extracted_content\\One\\JEHBLZPUPSP.txt\n",
      "C:\\Users\\User\\Desktop\\python\\Python Basics\\ZipQuiz\\extracted_content\\One\\JLTXKIGCWDL.txt\n",
      "C:\\Users\\User\\Desktop\\python\\Python Basics\\ZipQuiz\\extracted_content\\One\\JQUOBKFUACN.txt\n",
      "C:\\Users\\User\\Desktop\\python\\Python Basics\\ZipQuiz\\extracted_content\\One\\JTHSNBNPQSE.txt\n",
      "C:\\Users\\User\\Desktop\\python\\Python Basics\\ZipQuiz\\extracted_content\\One\\KCXGNQCZBLO.txt\n",
      "C:\\Users\\User\\Desktop\\python\\Python Basics\\ZipQuiz\\extracted_content\\One\\KFIUZFERLET.txt\n",
      "C:\\Users\\User\\Desktop\\python\\Python Basics\\ZipQuiz\\extracted_content\\One\\KMMLGJOWLGI.txt\n",
      "C:\\Users\\User\\Desktop\\python\\Python Basics\\ZipQuiz\\extracted_content\\One\\KNBSKDREHQU.txt\n",
      "C:\\Users\\User\\Desktop\\python\\Python Basics\\ZipQuiz\\extracted_content\\One\\KTXDHIOKAUI.txt\n",
      "C:\\Users\\User\\Desktop\\python\\Python Basics\\ZipQuiz\\extracted_content\\One\\LDGOCUQJNNS.txt\n",
      "C:\\Users\\User\\Desktop\\python\\Python Basics\\ZipQuiz\\extracted_content\\One\\LFEATJAAYDC.txt\n",
      "C:\\Users\\User\\Desktop\\python\\Python Basics\\ZipQuiz\\extracted_content\\One\\LHODFIKVTQA.txt\n",
      "C:\\Users\\User\\Desktop\\python\\Python Basics\\ZipQuiz\\extracted_content\\One\\LIFDHOFKWOI.txt\n",
      "C:\\Users\\User\\Desktop\\python\\Python Basics\\ZipQuiz\\extracted_content\\One\\LPNDVDXPZIG.txt\n",
      "C:\\Users\\User\\Desktop\\python\\Python Basics\\ZipQuiz\\extracted_content\\One\\PDJMSMNKIRM.txt\n",
      "C:\\Users\\User\\Desktop\\python\\Python Basics\\ZipQuiz\\extracted_content\\One\\PHWAVPEKAER.txt\n",
      "C:\\Users\\User\\Desktop\\python\\Python Basics\\ZipQuiz\\extracted_content\\One\\PLYCGPVEAWO.txt\n",
      "C:\\Users\\User\\Desktop\\python\\Python Basics\\ZipQuiz\\extracted_content\\One\\PQNVCVJINAR.txt\n",
      "C:\\Users\\User\\Desktop\\python\\Python Basics\\ZipQuiz\\extracted_content\\One\\PTOBBCJYURJ.txt\n",
      "C:\\Users\\User\\Desktop\\python\\Python Basics\\ZipQuiz\\extracted_content\\Three\\VAQIJTDOFUJ.txt\n",
      "C:\\Users\\User\\Desktop\\python\\Python Basics\\ZipQuiz\\extracted_content\\Three\\VCFJCGJFBIH.txt\n",
      "C:\\Users\\User\\Desktop\\python\\Python Basics\\ZipQuiz\\extracted_content\\Three\\VSXFSTABZDY.txt\n",
      "C:\\Users\\User\\Desktop\\python\\Python Basics\\ZipQuiz\\extracted_content\\Three\\VVHFVZUNLOO.txt\n",
      "C:\\Users\\User\\Desktop\\python\\Python Basics\\ZipQuiz\\extracted_content\\Three\\VVKGWLRMHLU.txt\n",
      "C:\\Users\\User\\Desktop\\python\\Python Basics\\ZipQuiz\\extracted_content\\Three\\XAJMCPEWFNI.txt\n",
      "C:\\Users\\User\\Desktop\\python\\Python Basics\\ZipQuiz\\extracted_content\\Three\\XFHJOTNPEJG.txt\n",
      "C:\\Users\\User\\Desktop\\python\\Python Basics\\ZipQuiz\\extracted_content\\Three\\XHZPVUQTXIO.txt\n",
      "C:\\Users\\User\\Desktop\\python\\Python Basics\\ZipQuiz\\extracted_content\\Three\\XJCWENFFGHB.txt\n",
      "C:\\Users\\User\\Desktop\\python\\Python Basics\\ZipQuiz\\extracted_content\\Three\\XVMPVSVYKFR.txt\n",
      "C:\\Users\\User\\Desktop\\python\\Python Basics\\ZipQuiz\\extracted_content\\Three\\YCESZHJDBXH.txt\n",
      "C:\\Users\\User\\Desktop\\python\\Python Basics\\ZipQuiz\\extracted_content\\Three\\YDQFMWXOUMW.txt\n",
      "C:\\Users\\User\\Desktop\\python\\Python Basics\\ZipQuiz\\extracted_content\\Three\\YQBIUHSUEVW.txt\n",
      "C:\\Users\\User\\Desktop\\python\\Python Basics\\ZipQuiz\\extracted_content\\Three\\YQRNCMNFFHW.txt\n",
      "C:\\Users\\User\\Desktop\\python\\Python Basics\\ZipQuiz\\extracted_content\\Three\\YYIZGBTQHZP.txt\n",
      "C:\\Users\\User\\Desktop\\python\\Python Basics\\ZipQuiz\\extracted_content\\Three\\ZEZKKRBIZEB.txt\n",
      "C:\\Users\\User\\Desktop\\python\\Python Basics\\ZipQuiz\\extracted_content\\Three\\ZKQJXAYKPVD.txt\n",
      "C:\\Users\\User\\Desktop\\python\\Python Basics\\ZipQuiz\\extracted_content\\Three\\ZOWVXWPOGWP.txt\n",
      "C:\\Users\\User\\Desktop\\python\\Python Basics\\ZipQuiz\\extracted_content\\Three\\ZXEZRQXZNPG.txt\n",
      "C:\\Users\\User\\Desktop\\python\\Python Basics\\ZipQuiz\\extracted_content\\Three\\ZXIBJMPROKW.txt\n",
      "C:\\Users\\User\\Desktop\\python\\Python Basics\\ZipQuiz\\extracted_content\\Two\\GKQBQRCTNNK.txt\n",
      "C:\\Users\\User\\Desktop\\python\\Python Basics\\ZipQuiz\\extracted_content\\Two\\GMMQQUBMJNR.txt\n",
      "C:\\Users\\User\\Desktop\\python\\Python Basics\\ZipQuiz\\extracted_content\\Two\\GQTJJORZBXY.txt\n",
      "C:\\Users\\User\\Desktop\\python\\Python Basics\\ZipQuiz\\extracted_content\\Two\\GTOTCIWMDBY.txt\n",
      "C:\\Users\\User\\Desktop\\python\\Python Basics\\ZipQuiz\\extracted_content\\Two\\GXYSEPAFRTP.txt\n",
      "C:\\Users\\User\\Desktop\\python\\Python Basics\\ZipQuiz\\extracted_content\\Two\\HARDNJGDRBC.txt\n",
      "C:\\Users\\User\\Desktop\\python\\Python Basics\\ZipQuiz\\extracted_content\\Two\\HEORIXOTANT.txt\n",
      "C:\\Users\\User\\Desktop\\python\\Python Basics\\ZipQuiz\\extracted_content\\Two\\HMUTDOVNYTV.txt\n",
      "C:\\Users\\User\\Desktop\\python\\Python Basics\\ZipQuiz\\extracted_content\\Two\\HMZXPBOPRAE.txt\n",
      "C:\\Users\\User\\Desktop\\python\\Python Basics\\ZipQuiz\\extracted_content\\Two\\HTOHSTYXTCO.txt\n",
      "C:\\Users\\User\\Desktop\\python\\Python Basics\\ZipQuiz\\extracted_content\\Two\\LCJZYDHBFRM.txt\n",
      "C:\\Users\\User\\Desktop\\python\\Python Basics\\ZipQuiz\\extracted_content\\Two\\LSQSTGPIGIY.txt\n",
      "C:\\Users\\User\\Desktop\\python\\Python Basics\\ZipQuiz\\extracted_content\\Two\\LULTNYAQEJG.txt\n",
      "C:\\Users\\User\\Desktop\\python\\Python Basics\\ZipQuiz\\extracted_content\\Two\\LVMBINRBJXL.txt\n",
      "C:\\Users\\User\\Desktop\\python\\Python Basics\\ZipQuiz\\extracted_content\\Two\\LYZEQCVYNEZ.txt\n",
      "C:\\Users\\User\\Desktop\\python\\Python Basics\\ZipQuiz\\extracted_content\\Two\\OHZOUOSFJQC.txt\n",
      "C:\\Users\\User\\Desktop\\python\\Python Basics\\ZipQuiz\\extracted_content\\Two\\OIHMLGMWTHL.txt\n",
      "C:\\Users\\User\\Desktop\\python\\Python Basics\\ZipQuiz\\extracted_content\\Two\\OKWFOOYTXFU.txt\n",
      "C:\\Users\\User\\Desktop\\python\\Python Basics\\ZipQuiz\\extracted_content\\Two\\OMWIMVRCMYM.txt\n",
      "C:\\Users\\User\\Desktop\\python\\Python Basics\\ZipQuiz\\extracted_content\\Two\\OYMAGXAGWHJ.txt\n",
      "C:\\Users\\User\\Desktop\\python\\Python Basics\\ZipQuiz\\extracted_content\\Two\\SIKFPPLCJDN.txt\n",
      "C:\\Users\\User\\Desktop\\python\\Python Basics\\ZipQuiz\\extracted_content\\Two\\SJMJLDGPBSJ.txt\n",
      "C:\\Users\\User\\Desktop\\python\\Python Basics\\ZipQuiz\\extracted_content\\Two\\SOFUJYXTIMK.txt\n",
      "C:\\Users\\User\\Desktop\\python\\Python Basics\\ZipQuiz\\extracted_content\\Two\\SPDZYGDHEWO.txt\n",
      "C:\\Users\\User\\Desktop\\python\\Python Basics\\ZipQuiz\\extracted_content\\Two\\SWOFXREEHWA.txt\n"
     ]
    }
   ],
   "source": [
    "for folder, sub_folders,files in os.walk(os.getcwd()+'\\\\ZipQuiz'+'\\\\extracted_content'):\n",
    "    \n",
    "    for f in files:\n",
    "        full_path = folder+'\\\\'+f\n",
    "        print(full_path)\n",
    "        results.append(search(full_path))"
   ]
  },
  {
   "cell_type": "code",
   "execution_count": 77,
   "metadata": {},
   "outputs": [
    {
     "data": {
      "text/plain": [
       "['',\n",
       " '',\n",
       " '',\n",
       " '',\n",
       " '',\n",
       " '',\n",
       " '',\n",
       " '',\n",
       " '',\n",
       " '',\n",
       " '',\n",
       " '',\n",
       " '',\n",
       " '',\n",
       " '',\n",
       " '',\n",
       " '',\n",
       " '',\n",
       " '',\n",
       " '',\n",
       " '',\n",
       " '',\n",
       " '',\n",
       " '',\n",
       " '',\n",
       " '',\n",
       " '',\n",
       " <re.Match object; span=(1062, 1074), match='719-266-2837'>,\n",
       " '',\n",
       " '',\n",
       " '',\n",
       " '',\n",
       " '',\n",
       " '',\n",
       " '',\n",
       " '',\n",
       " '',\n",
       " '',\n",
       " '',\n",
       " '',\n",
       " '',\n",
       " '',\n",
       " '',\n",
       " '',\n",
       " '',\n",
       " '',\n",
       " '',\n",
       " '',\n",
       " '',\n",
       " '',\n",
       " '',\n",
       " '',\n",
       " '',\n",
       " '',\n",
       " '',\n",
       " '',\n",
       " '',\n",
       " '',\n",
       " '',\n",
       " '',\n",
       " '',\n",
       " '',\n",
       " '',\n",
       " '',\n",
       " '',\n",
       " '',\n",
       " '',\n",
       " '',\n",
       " '',\n",
       " '',\n",
       " '',\n",
       " '',\n",
       " '',\n",
       " '',\n",
       " '',\n",
       " '',\n",
       " '',\n",
       " '',\n",
       " '',\n",
       " '',\n",
       " '',\n",
       " '',\n",
       " '',\n",
       " '',\n",
       " '',\n",
       " '',\n",
       " '',\n",
       " '',\n",
       " '',\n",
       " '',\n",
       " '',\n",
       " '',\n",
       " '',\n",
       " '',\n",
       " '',\n",
       " '',\n",
       " '',\n",
       " '',\n",
       " '',\n",
       " '',\n",
       " '',\n",
       " '',\n",
       " '',\n",
       " '',\n",
       " '',\n",
       " '',\n",
       " '',\n",
       " '',\n",
       " '',\n",
       " '',\n",
       " '',\n",
       " '',\n",
       " '',\n",
       " '',\n",
       " '',\n",
       " '',\n",
       " '',\n",
       " '',\n",
       " '',\n",
       " '',\n",
       " '']"
      ]
     },
     "execution_count": 77,
     "metadata": {},
     "output_type": "execute_result"
    }
   ],
   "source": [
    "results"
   ]
  },
  {
   "cell_type": "code",
   "execution_count": 79,
   "metadata": {},
   "outputs": [
    {
     "name": "stdout",
     "output_type": "stream",
     "text": [
      "719-266-2837\n"
     ]
    }
   ],
   "source": [
    "for r in results:\n",
    "    if r == \"\":\n",
    "        pass\n",
    "    else:\n",
    "        print(r.group())"
   ]
  },
  {
   "cell_type": "markdown",
   "metadata": {},
   "source": []
  },
  {
   "cell_type": "code",
   "execution_count": null,
   "metadata": {},
   "outputs": [],
   "source": []
  }
 ],
 "metadata": {
  "kernelspec": {
   "display_name": "Python 3",
   "language": "python",
   "name": "python3"
  },
  "language_info": {
   "codemirror_mode": {
    "name": "ipython",
    "version": 3
   },
   "file_extension": ".py",
   "mimetype": "text/x-python",
   "name": "python",
   "nbconvert_exporter": "python",
   "pygments_lexer": "ipython3",
   "version": "3.7.3"
  }
 },
 "nbformat": 4,
 "nbformat_minor": 2
}
